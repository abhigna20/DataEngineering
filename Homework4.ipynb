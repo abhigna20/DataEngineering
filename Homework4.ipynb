{
 "cells": [
  {
   "cell_type": "markdown",
   "metadata": {
    "deletable": false,
    "editable": false,
    "nbgrader": {
     "grade": false,
     "locked": true,
     "solution": false
    }
   },
   "source": [
    "In this homework, the questions on plots will be graded manually, and all remaining questions will be auto-graded."
   ]
  },
  {
   "cell_type": "markdown",
   "metadata": {
    "deletable": false,
    "editable": false,
    "nbgrader": {
     "grade": false,
     "locked": true,
     "solution": false
    }
   },
   "source": [
    "## Q1: Regular Expressions (6 points)"
   ]
  },
  {
   "cell_type": "code",
   "execution_count": 2,
   "metadata": {
    "collapsed": true,
    "deletable": false,
    "editable": false,
    "nbgrader": {
     "grade": false,
     "locked": true,
     "solution": false
    }
   },
   "outputs": [],
   "source": [
    "# Import the 're' package in python for this question. \n",
    "import re"
   ]
  },
  {
   "cell_type": "markdown",
   "metadata": {
    "deletable": false,
    "editable": false,
    "nbgrader": {
     "grade": false,
     "locked": true,
     "solution": false
    }
   },
   "source": [
    "(a) Write a regular expression to check if an input string contains a sequence of digits (of any length)."
   ]
  },
  {
   "cell_type": "code",
   "execution_count": 2,
   "metadata": {},
   "outputs": [
    {
     "name": "stdout",
     "output_type": "stream",
     "text": [
      "True\n",
      "False\n"
     ]
    }
   ],
   "source": [
    "# checkDigitSequence(string) takes as input a string containing zero or more sequences \n",
    "# of digits and returns a boolean value which is True if the string contains at least \n",
    "# one sequence, and False if no such sequence is found. \n",
    "\n",
    "def checkDigitSequence(string):\n",
    "    \n",
    "    check = re.search(r'[0-9]+',string)\n",
    "    if not check:\n",
    "        return False\n",
    "    else:\n",
    "        return True\n",
    "    \n",
    "# Example Test Q1a\n",
    "print( checkDigitSequence('My number is 987654321 and my friend\\'s number is 123456789') )\n",
    "# output: True\n",
    "\n",
    "print( checkDigitSequence('Hello World!') )\n",
    "# output: False"
   ]
  },
  {
   "cell_type": "code",
   "execution_count": 11,
   "metadata": {
    "collapsed": true,
    "deletable": false,
    "editable": false,
    "nbgrader": {
     "grade": true,
     "grade_id": "Q1a:checkDigitSequence_0",
     "locked": true,
     "points": "1",
     "solution": false
    }
   },
   "outputs": [],
   "source": [
    "###\n",
    "### AUTOGRADER TEST - DO NOT REMOVE\n",
    "###\n"
   ]
  },
  {
   "cell_type": "code",
   "execution_count": 12,
   "metadata": {
    "collapsed": true,
    "deletable": false,
    "editable": false,
    "nbgrader": {
     "grade": true,
     "grade_id": "Q1a:checkDigitSequence_1",
     "locked": true,
     "points": "1",
     "solution": false
    }
   },
   "outputs": [],
   "source": [
    "###\n",
    "### AUTOGRADER TEST - DO NOT REMOVE\n",
    "###\n"
   ]
  },
  {
   "cell_type": "code",
   "execution_count": 13,
   "metadata": {
    "collapsed": true,
    "deletable": false,
    "editable": false,
    "nbgrader": {
     "grade": true,
     "grade_id": "Q1a:checkDigitSequence_2",
     "locked": true,
     "points": "1",
     "solution": false
    }
   },
   "outputs": [],
   "source": [
    "###\n",
    "### AUTOGRADER TEST - DO NOT REMOVE\n",
    "###\n"
   ]
  },
  {
   "cell_type": "markdown",
   "metadata": {
    "deletable": false,
    "editable": false,
    "nbgrader": {
     "grade": false,
     "locked": true,
     "solution": false
    }
   },
   "source": [
    "(b) Write a regular expression to find all sequences of digits (of any length) in an input string."
   ]
  },
  {
   "cell_type": "code",
   "execution_count": 3,
   "metadata": {},
   "outputs": [
    {
     "name": "stdout",
     "output_type": "stream",
     "text": [
      "['123456789', '987654321']\n",
      "None\n"
     ]
    }
   ],
   "source": [
    "# findDigitSequence(string) takes as input a string containing zero or more sequences \n",
    "# of digits and returns a list of all sequences in the string. The output list must \n",
    "# be sorted in the increasing order. You can use the 'sorted' function in python for \n",
    "# sorting the list. If no sequence is present, then the function should return 'None'. \n",
    "\n",
    "def findDigitSequence(string):\n",
    "    \n",
    "    check = re.findall(r'[0-9]+',string)\n",
    "    if check:\n",
    "        return sorted(check)\n",
    "    else:\n",
    "        return None\n",
    "        \n",
    "        \n",
    "    \n",
    "\n",
    "\n",
    "# Example Test Q1b\n",
    "print( findDigitSequence(\"My number is 987654321 and my friend\\'s number is 123456789.\") )\n",
    "# output ['123456789', '987654321']\n",
    "\n",
    "print( findDigitSequence(\"Hello World!\") )\n",
    "# output None"
   ]
  },
  {
   "cell_type": "code",
   "execution_count": 9,
   "metadata": {
    "collapsed": true,
    "deletable": false,
    "editable": false,
    "nbgrader": {
     "grade": true,
     "grade_id": "Q1b:findDigitSequence_0",
     "locked": true,
     "points": "1",
     "solution": false
    }
   },
   "outputs": [],
   "source": [
    "###\n",
    "### AUTOGRADER TEST - DO NOT REMOVE\n",
    "###\n"
   ]
  },
  {
   "cell_type": "code",
   "execution_count": null,
   "metadata": {
    "collapsed": true,
    "deletable": false,
    "editable": false,
    "nbgrader": {
     "grade": true,
     "grade_id": "Q1b:findDigitSequence_1",
     "locked": true,
     "points": "1",
     "solution": false
    }
   },
   "outputs": [],
   "source": [
    "###\n",
    "### AUTOGRADER TEST - DO NOT REMOVE\n",
    "###\n"
   ]
  },
  {
   "cell_type": "code",
   "execution_count": null,
   "metadata": {
    "collapsed": true,
    "deletable": false,
    "editable": false,
    "nbgrader": {
     "grade": true,
     "grade_id": "Q1b:findDigitSequence_2",
     "locked": true,
     "points": "1",
     "solution": false
    }
   },
   "outputs": [],
   "source": [
    "###\n",
    "### AUTOGRADER TEST - DO NOT REMOVE\n",
    "###\n"
   ]
  },
  {
   "cell_type": "markdown",
   "metadata": {
    "deletable": false,
    "editable": false,
    "nbgrader": {
     "grade": false,
     "locked": true,
     "solution": false
    }
   },
   "source": [
    "(c) Write a regular expression to find \"proper case words\" in an input string. Proper case words have their first letter capitalized and the remaining characters are lower case alpha-numeric characters. (Assume words are separated by a whitespace). "
   ]
  },
  {
   "cell_type": "code",
   "execution_count": 33,
   "metadata": {},
   "outputs": [
    {
     "name": "stdout",
     "output_type": "stream",
     "text": [
      "['Data', 'Introduction', 'Science', 'We']\n",
      "None\n"
     ]
    }
   ],
   "source": [
    "# findProperCase(string) takes an input string, and returns a list of all words in the \n",
    "# string that have their first letter capitalized followed by any number of lower case alpha-numeric \n",
    "# characters. The output list must be sorted in the increasing lexicographic order. \n",
    "# You can use the 'sorted' function in python for sorting the list. If no such word \n",
    "# is present in the given string, then the function should return 'None'.\n",
    "\n",
    "def findProperCase(string):\n",
    "    \n",
    "    check = re.findall(r'[A-Z][a-z]*',string)\n",
    "    if check:\n",
    "        return sorted(check)\n",
    "    else:\n",
    "        return None\n",
    "    \n",
    "    \n",
    "    \n",
    "#Example Test Q1c\n",
    "print( findProperCase('We are studying the course Introduction to Data Science.') )\n",
    "# output: ['Data', 'Introduction', 'Science', 'We']\n",
    "\n",
    "print( findProperCase('today is our fourth lab assignment') )\n",
    "# output: None"
   ]
  },
  {
   "cell_type": "code",
   "execution_count": 5,
   "metadata": {
    "collapsed": true,
    "deletable": false,
    "editable": false,
    "nbgrader": {
     "grade": true,
     "grade_id": "Q1c:findProperCase_0",
     "locked": true,
     "points": "1",
     "solution": false
    }
   },
   "outputs": [],
   "source": [
    "###\n",
    "### AUTOGRADER TEST - DO NOT REMOVE\n",
    "###\n"
   ]
  },
  {
   "cell_type": "code",
   "execution_count": 6,
   "metadata": {
    "collapsed": true,
    "deletable": false,
    "editable": false,
    "nbgrader": {
     "grade": true,
     "grade_id": "Q1c:findProperCase_1",
     "locked": true,
     "points": "1",
     "solution": false
    }
   },
   "outputs": [],
   "source": [
    "###\n",
    "### AUTOGRADER TEST - DO NOT REMOVE\n",
    "###\n"
   ]
  },
  {
   "cell_type": "code",
   "execution_count": 7,
   "metadata": {
    "collapsed": true,
    "deletable": false,
    "editable": false,
    "nbgrader": {
     "grade": true,
     "grade_id": "Q1c:findProperCase_2",
     "locked": true,
     "points": "1",
     "solution": false
    }
   },
   "outputs": [],
   "source": [
    "###\n",
    "### AUTOGRADER TEST - DO NOT REMOVE\n",
    "###\n"
   ]
  },
  {
   "cell_type": "markdown",
   "metadata": {
    "deletable": false,
    "editable": false,
    "nbgrader": {
     "grade": false,
     "locked": true,
     "solution": false
    }
   },
   "source": [
    "(d) Define a \"proper case word-number\" sequence as follows: a proper case word (as defined above) followed by a whitespace character and then sequence of 1 or more digits (e.g., January 15).\n",
    "\n",
    "Write a regular expression to check if an input string contains a \"proper case word number\" sequence."
   ]
  },
  {
   "cell_type": "code",
   "execution_count": 35,
   "metadata": {},
   "outputs": [
    {
     "name": "stdout",
     "output_type": "stream",
     "text": [
      "True\n",
      "False\n"
     ]
    }
   ],
   "source": [
    "# checkProperCaseWordNumSeq(string) takes an input string and returns a boolean value \n",
    "# which is True if the string contains a proper case word-number sequence as defined \n",
    "# above and False if no such sequence is found. \n",
    "\n",
    "def checkProperCaseWordNumSeq(string):\n",
    "    \n",
    "    check = re.search(r'[A-Z][a-z]*\\s[0-9]',string)\n",
    "    if check:\n",
    "        return True\n",
    "    else:\n",
    "        return False\n",
    "    \n",
    "    \n",
    "    \n",
    "# Example Test Q1d\n",
    "print( checkProperCaseWordNumSeq('I was born on January 15') )\n",
    "# output: True\n",
    "    \n",
    "print( checkProperCaseWordNumSeq('I was born on January fifteen') )\n",
    "#output: False"
   ]
  },
  {
   "cell_type": "code",
   "execution_count": 36,
   "metadata": {
    "collapsed": true,
    "deletable": false,
    "editable": false,
    "nbgrader": {
     "grade": true,
     "grade_id": "Q1d:checkWordNumSeq_0",
     "locked": true,
     "points": "1",
     "solution": false
    }
   },
   "outputs": [],
   "source": [
    "###\n",
    "### AUTOGRADER TEST - DO NOT REMOVE\n",
    "###\n"
   ]
  },
  {
   "cell_type": "code",
   "execution_count": null,
   "metadata": {
    "collapsed": true,
    "deletable": false,
    "editable": false,
    "nbgrader": {
     "grade": true,
     "grade_id": "Q1d:checkWordNumSeq_1",
     "locked": true,
     "points": "1",
     "solution": false
    }
   },
   "outputs": [],
   "source": [
    "###\n",
    "### AUTOGRADER TEST - DO NOT REMOVE\n",
    "###\n"
   ]
  },
  {
   "cell_type": "code",
   "execution_count": null,
   "metadata": {
    "collapsed": true,
    "deletable": false,
    "editable": false,
    "nbgrader": {
     "grade": true,
     "grade_id": "Q1d:checkWordNumSeq_2",
     "locked": true,
     "points": "1",
     "solution": false
    }
   },
   "outputs": [],
   "source": [
    "###\n",
    "### AUTOGRADER TEST - DO NOT REMOVE\n",
    "###\n"
   ]
  },
  {
   "cell_type": "markdown",
   "metadata": {
    "deletable": false,
    "editable": false,
    "nbgrader": {
     "grade": false,
     "locked": true,
     "solution": false
    }
   },
   "source": [
    "(e) Find all words that correspond to months of the year (e.g., 'January', 'February', etc) in an input string and replace them with their numerical representation (e.g., 01, 02, etc). Return the resulting output string. \n",
    "\n",
    "Note: If the input does not contain any months, then the output string will be the same as the input string."
   ]
  },
  {
   "cell_type": "code",
   "execution_count": 5,
   "metadata": {},
   "outputs": [
    {
     "name": "stdout",
     "output_type": "stream",
     "text": [
      "I was born on 06 24 and my sister was born on 05 17\n",
      "This is a string without a month in it\n"
     ]
    }
   ],
   "source": [
    "# transformMonths(string) takes an input string, finds all the proper case references to \n",
    "# months of the year, tranforms them to a numerical representation and returns the result.\n",
    "\n",
    "def transformMonths(string):\n",
    "    \n",
    "    month = {'January':'01','February':'02','March':'03','April':'04','May':'05','June':'06','July':'07','August':'08','September':'09','October':'10','November':'11','December':'12'}\n",
    "    output = re.sub(rf'(?:{\"|\".join(month.keys())})', lambda x: month[x.group()], string)\n",
    "    if not output:\n",
    "        return('This is a string without a month in it')\n",
    "    else:\n",
    "        return output\n",
    "\n",
    "    \n",
    "    \n",
    "    \n",
    "\n",
    "# Example Test Q1e\n",
    "print( transformMonths('I was born on June 24 and my sister was born on May 17') )\n",
    "# output: 'I was born on 06 24 and my sister was born on 05 17'\n",
    "\n",
    "print( transformMonths('This is a string without a month in it') )\n",
    "# output: 'This is a string without a month in it'"
   ]
  },
  {
   "cell_type": "code",
   "execution_count": null,
   "metadata": {
    "collapsed": true,
    "deletable": false,
    "editable": false,
    "nbgrader": {
     "grade": true,
     "grade_id": "Q1e:transformMonths_0",
     "locked": true,
     "points": "1",
     "solution": false
    }
   },
   "outputs": [],
   "source": [
    "###\n",
    "### AUTOGRADER TEST - DO NOT REMOVE\n",
    "###\n"
   ]
  },
  {
   "cell_type": "code",
   "execution_count": null,
   "metadata": {
    "collapsed": true,
    "deletable": false,
    "editable": false,
    "nbgrader": {
     "grade": true,
     "grade_id": "Q1e:transformMonths_1",
     "locked": true,
     "points": "1",
     "solution": false
    }
   },
   "outputs": [],
   "source": [
    "###\n",
    "### AUTOGRADER TEST - DO NOT REMOVE\n",
    "###\n"
   ]
  },
  {
   "cell_type": "code",
   "execution_count": null,
   "metadata": {
    "collapsed": true,
    "deletable": false,
    "editable": false,
    "nbgrader": {
     "grade": true,
     "grade_id": "Q1e:transformMonths_2",
     "locked": true,
     "points": "1",
     "solution": false
    }
   },
   "outputs": [],
   "source": [
    "###\n",
    "### AUTOGRADER TEST - DO NOT REMOVE\n",
    "###\n"
   ]
  },
  {
   "cell_type": "markdown",
   "metadata": {
    "deletable": false,
    "editable": false,
    "nbgrader": {
     "grade": false,
     "locked": true,
     "solution": false
    }
   },
   "source": [
    "(f) Given an input file, determine how many lines in the file contain a clause (delinated by two commas followed by a space, i.e. ', '). Note the full clause must be contained on a single line to be considered a match. If the clause is split across two lines, do not count it."
   ]
  },
  {
   "cell_type": "code",
   "execution_count": 78,
   "metadata": {},
   "outputs": [
    {
     "data": {
      "text/plain": [
       "8"
      ]
     },
     "execution_count": 78,
     "metadata": {},
     "output_type": "execute_result"
    }
   ],
   "source": [
    "# countClauses(filename) takes an input filename, and returns the number of lines \n",
    "# containing a clause separated by commas.\n",
    "\n",
    "def countClauses(filename):\n",
    "    re_list = ['(?<=, )[a-z].+?(?=, )']\n",
    "    cnt = 0\n",
    "    rslt=[]\n",
    "    with open(filename) as x:\n",
    "        for line in x:\n",
    "            for r in re_list:\n",
    "                check = re.search(r,line)\n",
    "                rslt.append(check)\n",
    "            \n",
    "    for line in rslt:\n",
    "        if not line:\n",
    "            cnt=cnt\n",
    "        else:\n",
    "            cnt=cnt+1\n",
    "                          \n",
    "    return cnt\n",
    "\n",
    "            \n",
    "\n",
    "    \n",
    "# Example Test Q1f\n",
    "countClauses('raven-poem_demo.txt')\n",
    "# output: 8"
   ]
  },
  {
   "cell_type": "code",
   "execution_count": null,
   "metadata": {
    "collapsed": true,
    "deletable": false,
    "editable": false,
    "nbgrader": {
     "grade": true,
     "grade_id": "Q1f:countClauses0",
     "locked": true,
     "points": "1",
     "solution": false
    }
   },
   "outputs": [],
   "source": [
    "###\n",
    "### AUTOGRADER TEST - DO NOT REMOVE\n",
    "###\n"
   ]
  },
  {
   "cell_type": "code",
   "execution_count": null,
   "metadata": {
    "collapsed": true,
    "deletable": false,
    "editable": false,
    "nbgrader": {
     "grade": true,
     "grade_id": "Q1f:countClauses1",
     "locked": true,
     "points": "2",
     "solution": false
    }
   },
   "outputs": [],
   "source": [
    "###\n",
    "### AUTOGRADER TEST - DO NOT REMOVE\n",
    "###\n"
   ]
  },
  {
   "cell_type": "markdown",
   "metadata": {
    "deletable": false,
    "editable": false,
    "nbgrader": {
     "grade": false,
     "locked": true,
     "solution": false
    }
   },
   "source": [
    "## Q2: Sampling (4 points)"
   ]
  },
  {
   "cell_type": "markdown",
   "metadata": {
    "deletable": false,
    "editable": false,
    "nbgrader": {
     "grade": false,
     "locked": true,
     "solution": false
    }
   },
   "source": [
    "Consider the dataset 'bush-gore-results-fl_demo.csv'. Construct 20 different samples of counties, by randomly sampling the 10 out of the 50 rows. For each sample, calculate the total votes received by each specified candidate, and return the average across the 20 samples for each candidate. \n",
    "\n",
    "Unless specified otherwise, use the sample() function in pandas and set the 'random_state' parameter to the ith sample number to faciliate testing, i.e., for the fist sample use random_state=0, for the second sample use random_state=1, etc.\n"
   ]
  },
  {
   "cell_type": "markdown",
   "metadata": {
    "deletable": false,
    "editable": false,
    "nbgrader": {
     "grade": false,
     "locked": true,
     "solution": false
    }
   },
   "source": [
    "(a) Using sampling with replacement, create samples for following candidates: ['brow', 'nade', 'harr', 'hage', 'buch', 'mcre', 'phil', 'moor'], and return the mean of the total votes for each candidate."
   ]
  },
  {
   "cell_type": "code",
   "execution_count": 4,
   "metadata": {},
   "outputs": [
    {
     "data": {
      "text/plain": [
       "[3593.55, 16358.95, 1085.7, 1310.9, 3844.9, 1111.2, 1221.55, 1281.8]"
      ]
     },
     "execution_count": 4,
     "metadata": {},
     "output_type": "execute_result"
    }
   ],
   "source": [
    "# sampleWithReplacement(filename) takes as input the filename, samples with replacement \n",
    "# 20 samples of size 10, and returns the mean of the total votes for each candidate as  \n",
    "# a list, in the order of the candidates given above.\n",
    "import pandas as pd\n",
    "import numpy as np\n",
    "\n",
    "def sampleWithReplacement(filename):\n",
    "    \n",
    "    df = pd.read_csv(filename)\n",
    "    sample=[]\n",
    "    df_new = df[['brow','nade','harr','hage','buch','mcre','phil','moor']]\n",
    "    lst = []\n",
    "    brow=0\n",
    "    nade=0\n",
    "    harr=0\n",
    "    hage=0\n",
    "    buch=0\n",
    "    mcre=0\n",
    "    phil=0\n",
    "    moor=0\n",
    "    for i in range(0,20):\n",
    "        sample.append(df_new.sample(10,random_state=i,replace=True))\n",
    "    \n",
    "    \n",
    "    for i in range(0,20):\n",
    "        brow+= sample[i].brow.sum()\n",
    "        nade+= sample[i].nade.sum()\n",
    "        harr+= sample[i].harr.sum()\n",
    "        hage+= sample[i].hage.sum()\n",
    "        buch+= sample[i].buch.sum()\n",
    "        mcre+= sample[i].mcre.sum()\n",
    "        phil+= sample[i].phil.sum()\n",
    "        moor+= sample[i].moor.sum()\n",
    "        \n",
    "        \n",
    "    lst = [brow/20,nade/20,harr/20,hage/20,buch/20,mcre/20,phil/20,moor/20]\n",
    "    return lst\n",
    "    \n",
    "    \n",
    "   \n",
    "       \n",
    "        \n",
    "    \n",
    "    \n",
    "# Example Test Q2a\n",
    "sampleWithReplacement('bush-gore-results-fl_demo.csv')\n",
    "# output:  [3593.55, 16358.95, 1085.7, 1310.9, 3844.9, 1111.2, 1221.55, 1281.8 ]"
   ]
  },
  {
   "cell_type": "code",
   "execution_count": 9,
   "metadata": {
    "collapsed": true,
    "deletable": false,
    "editable": false,
    "nbgrader": {
     "grade": true,
     "grade_id": "Q2a:sampleWithReplacement0",
     "locked": true,
     "points": "1",
     "solution": false
    }
   },
   "outputs": [],
   "source": [
    "###\n",
    "### AUTOGRADER TEST - DO NOT REMOVE\n",
    "###\n"
   ]
  },
  {
   "cell_type": "code",
   "execution_count": 10,
   "metadata": {
    "collapsed": true,
    "deletable": false,
    "editable": false,
    "nbgrader": {
     "grade": true,
     "grade_id": "Q2a:sampleWithReplacement1",
     "locked": true,
     "points": "2",
     "solution": false
    }
   },
   "outputs": [],
   "source": [
    "###\n",
    "### AUTOGRADER TEST - DO NOT REMOVE\n",
    "###\n"
   ]
  },
  {
   "cell_type": "markdown",
   "metadata": {
    "deletable": false,
    "editable": false,
    "nbgrader": {
     "grade": false,
     "locked": true,
     "solution": false
    }
   },
   "source": [
    "(b) Using sampling with replacement, create samples for following candidates: ['bush', 'gore'], and show a boxplot with candidates on x axis and the total number of votes (for the different samples) on y-axis. For this part, consider the dataset in file 'bush-gore-results-fl_demo.csv'."
   ]
  },
  {
   "cell_type": "code",
   "execution_count": 18,
   "metadata": {},
   "outputs": [
    {
     "data": {
      "image/png": "[encoded data removed]",
      "text/plain": [
       "<Figure size 432x288 with 1 Axes>"
      ]
     },
     "metadata": {},
     "output_type": "display_data"
    }
   ],
   "source": [
    "import matplotlib as plt\n",
    "df = pd.read_csv('bush-gore-results-fl_demo.csv')\n",
    "samples=[]\n",
    "samples1=[]\n",
    "m=[]\n",
    "n=[]\n",
    "for i in range(0,20):\n",
    "        samples.append(df['bush'].sample(10,random_state=i,replace=True))\n",
    "        m.append(samples[i].sum())\n",
    "\n",
    "for i in range(0,20):\n",
    "        samples1.append(df['gore'].sample(10,random_state=i,replace=True))\n",
    "        n.append(samples1[i].sum())\n",
    "df_new[\"bush\"] = pd.DataFrame(m)\n",
    "df_new[\"gore\"] = pd.DataFrame(n)\n",
    "\n",
    "ax= df_new.boxplot(column=['bush','gore']);\n",
    "ax.set_ylabel('Number of Votes');\n"
   ]
  },
  {
   "cell_type": "markdown",
   "metadata": {
    "deletable": false,
    "editable": false,
    "nbgrader": {
     "grade": false,
     "locked": true,
     "solution": false
    }
   },
   "source": [
    "(c) Now use sampling without replacement to create samples for following candidates: ['brow', 'nade', 'harr', 'hage', 'buch', 'mcre', 'phil', 'moor'], and return the mean of the total votes for each candidate."
   ]
  },
  {
   "cell_type": "code",
   "execution_count": 20,
   "metadata": {},
   "outputs": [
    {
     "data": {
      "text/plain": [
       "[3346.85, 15555.7, 1088.35, 1352.95, 3277.45, 1066.0, 1175.75, 1273.1]"
      ]
     },
     "execution_count": 20,
     "metadata": {},
     "output_type": "execute_result"
    }
   ],
   "source": [
    "# sampleWithoutReplacement(filename) takes as input the filename, samples without \n",
    "# replacement 20 samples of size 10, and returns the mean of the total votes for each \n",
    "# candidate as a list, in the order of the candidates given above.\n",
    "\n",
    "def sampleWithoutReplacement(filename):\n",
    "    df = pd.read_csv(filename)\n",
    "    samples = []\n",
    "    df_new = df[['brow','nade','harr','hage','buch','mcre','phil','moor']]\n",
    "    brow=0\n",
    "    nade=0\n",
    "    harr=0\n",
    "    hage=0\n",
    "    buch=0\n",
    "    mcre=0\n",
    "    phil=0\n",
    "    moor=0\n",
    "    for i in range(0,20):\n",
    "        samples.append(df.sample(10,random_state=i))\n",
    "    \n",
    "    for i in range(0,20):\n",
    "        brow+= samples[i].brow.sum()\n",
    "        nade+= samples[i].nade.sum()\n",
    "        harr+= samples[i].harr.sum()\n",
    "        hage+= samples[i].hage.sum()\n",
    "        buch+= samples[i].buch.sum()\n",
    "        mcre+= samples[i].mcre.sum()\n",
    "        phil+= samples[i].phil.sum()\n",
    "        moor+= samples[i].moor.sum()\n",
    "        \n",
    "    lst = [brow/20,nade/20,harr/20,hage/20,buch/20,mcre/20,phil/20,moor/20]\n",
    "    return lst\n",
    "    \n",
    "\n",
    "# Example Test Q2c\n",
    "sampleWithoutReplacement('bush-gore-results-fl_demo.csv')\n",
    "# output: [3346.85, 15555.7, 1088.35, 1352.95, 3277.45, 1066.0, 1175.75, 1273.1]"
   ]
  },
  {
   "cell_type": "code",
   "execution_count": 20,
   "metadata": {
    "collapsed": true,
    "deletable": false,
    "editable": false,
    "nbgrader": {
     "grade": true,
     "grade_id": "Q2b:sampleWithoutReplacement0",
     "locked": true,
     "points": "1",
     "solution": false
    }
   },
   "outputs": [],
   "source": [
    "###\n",
    "### AUTOGRADER TEST - DO NOT REMOVE\n",
    "###\n"
   ]
  },
  {
   "cell_type": "code",
   "execution_count": 21,
   "metadata": {
    "collapsed": true,
    "deletable": false,
    "editable": false,
    "nbgrader": {
     "grade": true,
     "grade_id": "Q2b:sampleWithoutReplacement1",
     "locked": true,
     "points": "2",
     "solution": false
    }
   },
   "outputs": [],
   "source": [
    "###\n",
    "### AUTOGRADER TEST - DO NOT REMOVE\n",
    "###\n"
   ]
  },
  {
   "cell_type": "markdown",
   "metadata": {
    "deletable": false,
    "editable": false,
    "nbgrader": {
     "grade": false,
     "locked": true,
     "solution": false
    }
   },
   "source": [
    "(d) Using sampling without replacement, create samples for following candidates: ['bush', 'gore'], and show a boxplot with the candidates on x axis and the total number of votes (for the different samples) on y-axis. For this part, consider the dataset in file 'bush-gore-results-fl_demo.csv'."
   ]
  },
  {
   "cell_type": "code",
   "execution_count": 22,
   "metadata": {},
   "outputs": [
    {
     "data": {
      "image/png": "[encoded data removed]",
      "text/plain": [
       "<Figure size 432x288 with 1 Axes>"
      ]
     },
     "metadata": {},
     "output_type": "display_data"
    }
   ],
   "source": [
    "import matplotlib as plt\n",
    "df = pd.read_csv('bush-gore-results-fl_demo.csv')\n",
    "samples=[]\n",
    "samples1=[]\n",
    "m=[]\n",
    "n=[]\n",
    "for i in range(0,20):\n",
    "        samples.append(df['bush'].sample(10,random_state=i,replace=False))\n",
    "        m.append(samples[i].sum())\n",
    "\n",
    "for i in range(0,20):\n",
    "        samples1.append(df['gore'].sample(10,random_state=i,replace=False))\n",
    "        n.append(samples1[i].sum())\n",
    "df_new[\"bush\"] = pd.DataFrame(m)\n",
    "df_new[\"gore\"] = pd.DataFrame(n)\n",
    "\n",
    "ax= df_new.boxplot(column=['bush','gore']);\n",
    "ax.set_ylabel('Number of Votes');\n"
   ]
  },
  {
   "cell_type": "markdown",
   "metadata": {
    "deletable": false,
    "editable": false,
    "nbgrader": {
     "grade": false,
     "locked": true,
     "solution": false
    }
   },
   "source": [
    "## Q3: Distance Measures (4 points)"
   ]
  },
  {
   "cell_type": "markdown",
   "metadata": {
    "deletable": false,
    "editable": false,
    "nbgrader": {
     "grade": false,
     "locked": true,
     "solution": false
    }
   },
   "source": [
    "(a) Find the distance between the county that Bush won by the largest margin and the county that Gore won by the largest margin. (Just use basic Euclidean distance between the latitude (lat) and longitude (lon) values for the counties.)"
   ]
  },
  {
   "cell_type": "code",
   "execution_count": 9,
   "metadata": {},
   "outputs": [
    {
     "data": {
      "text/plain": [
       "4.341658669218476"
      ]
     },
     "execution_count": 9,
     "metadata": {},
     "output_type": "execute_result"
    }
   ],
   "source": [
    "# findLatLonDistance(filename) takes an input the filename, and returns the distance \n",
    "# between the county that Bush won by the largest margin and the county that Gore\n",
    "# won by the largest margin.\n",
    "import pandas as pd\n",
    "import numpy as np\n",
    "\n",
    "\n",
    "def findLatLonDistance(filename):\n",
    "    df = pd.read_csv(filename)\n",
    "    df[\"A\"] = df['bush']-df['gore']\n",
    "    df[\"B\"] = df['gore']-df['bush']\n",
    "    max_bush = df['A'].idxmax()\n",
    "    max_gore = df['B'].idxmax()\n",
    "    rslt = df.iloc[max_bush]\n",
    "    rslt1= df.iloc[max_gore]\n",
    "    distance = np.sqrt(((rslt['lat']-rslt1['lat'])**2)+((rslt['lon']-rslt1['lon'])**2))\n",
    "    return distance\n",
    "    \n",
    "    \n",
    "    \n",
    "    \n",
    "    \n",
    "# Example Test Q3a\n",
    "findLatLonDistance('bush-gore-results-fl_demo.csv')\n",
    "# output: 4.341658669218476"
   ]
  },
  {
   "cell_type": "code",
   "execution_count": 10,
   "metadata": {
    "collapsed": true,
    "deletable": false,
    "editable": false,
    "nbgrader": {
     "grade": true,
     "grade_id": "Q3a:findLatLonDistance0",
     "locked": true,
     "points": "1",
     "solution": false
    }
   },
   "outputs": [],
   "source": [
    "###\n",
    "### AUTOGRADER TEST - DO NOT REMOVE\n",
    "###\n"
   ]
  },
  {
   "cell_type": "code",
   "execution_count": 11,
   "metadata": {
    "collapsed": true,
    "deletable": false,
    "editable": false,
    "nbgrader": {
     "grade": true,
     "grade_id": "Q3a:findLatLonDistance1",
     "locked": true,
     "points": "2",
     "solution": false
    }
   },
   "outputs": [],
   "source": [
    "###\n",
    "### AUTOGRADER TEST - DO NOT REMOVE\n",
    "###\n"
   ]
  },
  {
   "cell_type": "markdown",
   "metadata": {
    "deletable": false,
    "editable": false,
    "nbgrader": {
     "grade": false,
     "locked": true,
     "solution": false
    }
   },
   "source": [
    "(b) Consider the candidates: ['bush', 'gore']. Represent each candidate as a vector with entries corresponding to the number of votes the candidate obtained in each county. Calculate the pairwise Euclidean distance between the two candidate vectors. "
   ]
  },
  {
   "cell_type": "code",
   "execution_count": 12,
   "metadata": {},
   "outputs": [
    {
     "data": {
      "text/plain": [
       "264972.26245967706"
      ]
     },
     "execution_count": 12,
     "metadata": {},
     "output_type": "execute_result"
    }
   ],
   "source": [
    "# findVoteDistance(filename) takes an input the filename, and returns the distance \n",
    "# between the votes that Bush received and the votes that Gore received.\n",
    "import pandas as pd\n",
    "import numpy as np\n",
    "\n",
    "def findVoteDistance(filename):\n",
    "    df = pd.read_csv(filename)\n",
    "    arr1 = df.loc[:,'bush']\n",
    "    arr2 = df.loc[:,'gore']\n",
    "    dist = np.linalg.norm(arr1-arr2)\n",
    "    return dist\n",
    "    \n",
    "    \n",
    "    \n",
    "\n",
    "\n",
    "# Example Test Q3b\n",
    "findVoteDistance('bush-gore-results-fl_demo.csv')\n",
    "# output: 264972.26245967706"
   ]
  },
  {
   "cell_type": "code",
   "execution_count": 13,
   "metadata": {
    "collapsed": true,
    "deletable": false,
    "editable": false,
    "nbgrader": {
     "grade": true,
     "grade_id": "Q3b:findVoteDistance0",
     "locked": true,
     "points": "1",
     "solution": false
    }
   },
   "outputs": [],
   "source": [
    "###\n",
    "### AUTOGRADER TEST - DO NOT REMOVE\n",
    "###\n"
   ]
  },
  {
   "cell_type": "code",
   "execution_count": 14,
   "metadata": {
    "collapsed": true,
    "deletable": false,
    "editable": false,
    "nbgrader": {
     "grade": true,
     "grade_id": "Q3b:findVoteDistance1",
     "locked": true,
     "points": "2",
     "solution": false
    }
   },
   "outputs": [],
   "source": [
    "###\n",
    "### AUTOGRADER TEST - DO NOT REMOVE\n",
    "###\n"
   ]
  },
  {
   "cell_type": "markdown",
   "metadata": {
    "deletable": false,
    "editable": false,
    "nbgrader": {
     "grade": false,
     "locked": true,
     "solution": false
    }
   },
   "source": [
    "(c) Consider the candidates: ['bush', 'gore', 'nade']. Represent each candidate as a vector with entries corresponding to the number of votes the candidate obtained in each county. Calculate the pairwise distances between the candidate vectors and plot the resulting matrix as a heatmap. Annotate the axes of the heatmap with the column names of the candidates. For this part, consider the dataset in file 'bush-gore-results-fl_demo.csv'."
   ]
  },
  {
   "cell_type": "code",
   "execution_count": 22,
   "metadata": {},
   "outputs": [
    {
     "data": {
      "image/png": "[encoded data removed]",
      "text/plain": [
       "<Figure size 432x288 with 2 Axes>"
      ]
     },
     "metadata": {},
     "output_type": "display_data"
    }
   ],
   "source": [
    "import pandas as pd\n",
    "import numpy as np\n",
    "import matplotlib.pyplot as plt\n",
    "df = pd.read_csv('bush-gore-results-fl_demo.csv')\n",
    "arr1 = df.loc[:,'bush']\n",
    "arr2 = df.loc[:,'gore']\n",
    "arr3 = df.loc[:,'nade']\n",
    "arr=[]\n",
    "array=[arr1,arr2,arr3]\n",
    "dist=[]\n",
    "for i in range(0,3):\n",
    "    for j in range(0,3):\n",
    "        dist.append(np.linalg.norm(array[i]-array[j]))\n",
    "\n",
    "my_arr = np.asarray(dist)\n",
    "arr = my_arr.reshape(3,3)\n",
    "#print(my_arr.reshape(3,3))\n",
    "\n",
    "xlabels = ['bush','gore','nade']\n",
    "ylabels = ['bush','gore','nade']\n",
    "\n",
    "plt.imshow(arr,cmap =\"RdYlBu\")\n",
    "plt.xticks(range(len(arr)), xlabels)\n",
    "plt.yticks(range(len(arr)), ylabels)\n",
    "plt.colorbar();\n",
    "\n",
    "\n",
    "\n",
    "\n",
    "\n",
    "\n",
    "\n",
    "\n"
   ]
  },
  {
   "cell_type": "markdown",
   "metadata": {
    "deletable": false,
    "editable": false,
    "nbgrader": {
     "grade": false,
     "locked": true,
     "solution": false
    }
   },
   "source": [
    "(c) Now, create the same type of distance heatmap for the following set of candidates: ['brow', 'harr', 'hage', 'buch', 'mcre', 'phil', 'moor']. For this part, consider the dataset in file 'bush-gore-results-fl_demo.csv'."
   ]
  },
  {
   "cell_type": "code",
   "execution_count": 21,
   "metadata": {},
   "outputs": [
    {
     "data": {
      "image/png": "[encoded data removed]",
      "text/plain": [
       "<Figure size 432x288 with 2 Axes>"
      ]
     },
     "metadata": {},
     "output_type": "display_data"
    }
   ],
   "source": [
    "import pandas as pd\n",
    "import numpy as np\n",
    "import matplotlib.pyplot as plt\n",
    "df = pd.read_csv('bush-gore-results-fl_demo.csv')\n",
    "arr1 = df.loc[:,'brow']\n",
    "arr2 = df.loc[:,'harr']\n",
    "arr3 = df.loc[:,'hage']\n",
    "arr4 = df.loc[:,'buch']\n",
    "arr5 = df.loc[:,'mcre']\n",
    "arr6 = df.loc[:,'phil']\n",
    "arr7 = df.loc[:,'moor']\n",
    "array=[arr1,arr2,arr3,arr4,arr5,arr6,arr7]\n",
    "arr=[]\n",
    "dist=[]\n",
    "for i in range(0,7):\n",
    "    for j in range(0,7):\n",
    "        dist.append(np.linalg.norm(array[i]-array[j]))\n",
    "\n",
    "my_arr = np.asarray(dist)\n",
    "arr = my_arr.reshape(7,7)\n",
    "#print(arr)        \n",
    "\n",
    "xlabels = ['brow','harr','hage','buch','mcre','phil','moor']\n",
    "ylabels = ['brow','harr','hage','buch','mcre','phil','moor']\n",
    "\n",
    "plt.imshow(arr,cmap =\"RdYlBu\");\n",
    "plt.xticks(range(len(arr)), xlabels);\n",
    "plt.yticks(range(len(arr)), ylabels);\n",
    "plt.colorbar();\n",
    "\n"
   ]
  },
  {
   "cell_type": "code",
   "execution_count": null,
   "metadata": {
    "collapsed": true
   },
   "outputs": [],
   "source": []
  }
 ],
 "metadata": {
  "kernelspec": {
   "display_name": "Python 3 [3.6]",
   "language": "python",
   "name": "python3"
  },
  "language_info": {
   "codemirror_mode": {
    "name": "ipython",
    "version": 3
   },
   "file_extension": ".py",
   "mimetype": "text/x-python",
   "name": "python",
   "nbconvert_exporter": "python",
   "pygments_lexer": "ipython3",
   "version": "3.6.4"
  }
 },
 "nbformat": 4,
 "nbformat_minor": 2
}
