{
 "cells": [
  {
   "cell_type": "markdown",
   "metadata": {
    "deletable": false,
    "editable": false,
    "nbgrader": {
     "grade": false,
     "locked": true,
     "solution": false
    }
   },
   "source": [
    "# Homework 1"
   ]
  },
  {
   "cell_type": "markdown",
   "metadata": {
    "deletable": false,
    "editable": false,
    "nbgrader": {
     "grade": false,
     "locked": true,
     "solution": false
    }
   },
   "source": [
    "## Q1"
   ]
  },
  {
   "cell_type": "code",
   "execution_count": 4,
   "metadata": {},
   "outputs": [
    {
     "name": "stdout",
     "output_type": "stream",
     "text": [
      "17\n"
     ]
    }
   ],
   "source": [
    "# Write a function to sum all the values in a dictionary.\n",
    "\n",
    "# sumValues(dictionary) takes as input a dictionary (with integer values), and returns the sum of the  \n",
    "# values for all keys in the dictionary!\n",
    "#\n",
    "\n",
    "\n",
    "def sumValues(dictionary):\n",
    "    \n",
    "    total = sum(dictionary.values())\n",
    "    #return (\"The sum is %d\" %total)\n",
    "    return total\n",
    "\n",
    " \n",
    "# Example: \n",
    "print( sumValues({\"a\" : 7, \"b\" : 10}) ) # outputs 17"
   ]
  },
  {
   "cell_type": "code",
   "execution_count": 5,
   "metadata": {
    "collapsed": true,
    "deletable": false,
    "editable": false,
    "nbgrader": {
     "grade": true,
     "grade_id": "Q1:Sum-0",
     "locked": true,
     "points": "1",
     "solution": false
    }
   },
   "outputs": [],
   "source": [
    "###\n",
    "### AUTOGRADER TEST - DO NOT REMOVE\n",
    "###\n"
   ]
  },
  {
   "cell_type": "code",
   "execution_count": 6,
   "metadata": {
    "collapsed": true,
    "deletable": false,
    "editable": false,
    "nbgrader": {
     "grade": true,
     "grade_id": "Q1:Sum1",
     "locked": true,
     "points": "1",
     "solution": false
    }
   },
   "outputs": [],
   "source": [
    "###\n",
    "### AUTOGRADER TEST - DO NOT REMOVE\n",
    "###\n"
   ]
  },
  {
   "cell_type": "code",
   "execution_count": 7,
   "metadata": {
    "collapsed": true,
    "deletable": false,
    "editable": false,
    "nbgrader": {
     "grade": true,
     "grade_id": "Q1:Sum2",
     "locked": true,
     "points": "1",
     "solution": false
    }
   },
   "outputs": [],
   "source": [
    "###\n",
    "### AUTOGRADER TEST - DO NOT REMOVE\n",
    "###\n"
   ]
  },
  {
   "cell_type": "markdown",
   "metadata": {
    "deletable": false,
    "editable": false,
    "nbgrader": {
     "grade": false,
     "locked": true,
     "solution": false
    }
   },
   "source": [
    "## Q2"
   ]
  },
  {
   "cell_type": "code",
   "execution_count": 8,
   "metadata": {
    "nbgrader": {
     "grade": false,
     "locked": false,
     "solution": false
    }
   },
   "outputs": [
    {
     "name": "stdout",
     "output_type": "stream",
     "text": [
      "b\n"
     ]
    }
   ],
   "source": [
    "# Write a function to find the key corresponding to the maximum value in a dictionary. \n",
    "\n",
    "# maxValue(dictionary) takes as input a dictionary (with integer values), and returns the key \n",
    "# associated with the maximum value in the dictionary. \n",
    "#\n",
    "\n",
    "\n",
    "def maxValue(dictionary):\n",
    "    \n",
    "    ###\n",
    "    maximum = max(dictionary, key=dictionary.get)\n",
    "    return maximum\n",
    "    #a = list(dictionary.values())\n",
    "    #b = list(dictionary.keys())\n",
    "    #return b[a.index(max(a))]\n",
    "    ###\n",
    "\n",
    "# Example: \n",
    "print( maxValue({\"a\" : 7, \"b\" : 10}) ) # outputs b"
   ]
  },
  {
   "cell_type": "code",
   "execution_count": 9,
   "metadata": {
    "collapsed": true,
    "deletable": false,
    "editable": false,
    "nbgrader": {
     "grade": true,
     "grade_id": "Q2:Max0",
     "locked": true,
     "points": "1",
     "solution": false
    }
   },
   "outputs": [],
   "source": [
    "###\n",
    "### AUTOGRADER TEST - DO NOT REMOVE\n",
    "###\n"
   ]
  },
  {
   "cell_type": "code",
   "execution_count": 10,
   "metadata": {
    "collapsed": true,
    "deletable": false,
    "editable": false,
    "nbgrader": {
     "grade": true,
     "grade_id": "Q2:Max1",
     "locked": true,
     "points": "1",
     "solution": false
    }
   },
   "outputs": [],
   "source": [
    "###\n",
    "### AUTOGRADER TEST - DO NOT REMOVE\n",
    "###\n"
   ]
  },
  {
   "cell_type": "code",
   "execution_count": 11,
   "metadata": {
    "collapsed": true,
    "deletable": false,
    "editable": false,
    "nbgrader": {
     "grade": true,
     "grade_id": "Q2:Max2",
     "locked": true,
     "points": "1",
     "solution": false
    }
   },
   "outputs": [],
   "source": [
    "###\n",
    "### AUTOGRADER TEST - DO NOT REMOVE\n",
    "###\n"
   ]
  },
  {
   "cell_type": "markdown",
   "metadata": {
    "deletable": false,
    "editable": false,
    "nbgrader": {
     "grade": false,
     "locked": true,
     "solution": false
    }
   },
   "source": [
    "## Q3"
   ]
  },
  {
   "cell_type": "code",
   "execution_count": 12,
   "metadata": {},
   "outputs": [
    {
     "name": "stdout",
     "output_type": "stream",
     "text": [
      "3\n"
     ]
    }
   ],
   "source": [
    "# Write a function to find the number of unique elements in a list of integers and characters. \n",
    "\n",
    "# numberOfUniqueElements(listOfElements) takes as input a list, and returns the number of unique \n",
    "# elements in the list. \n",
    "#\n",
    "\n",
    "\n",
    "def numberOfUniqueElements(listOfElements):\n",
    "    \n",
    "    \n",
    "    ###\n",
    "    new = set(listOfElements)\n",
    "    return len(new)\n",
    "    ###\n",
    "\n",
    "# Example: \n",
    "print( numberOfUniqueElements([1,2,2,'c']) ) # outputs 3 "
   ]
  },
  {
   "cell_type": "code",
   "execution_count": 13,
   "metadata": {
    "collapsed": true,
    "deletable": false,
    "editable": false,
    "nbgrader": {
     "grade": true,
     "grade_id": "Q3:Unique0",
     "locked": true,
     "points": "1",
     "solution": false
    }
   },
   "outputs": [],
   "source": [
    "###\n",
    "### AUTOGRADER TEST - DO NOT REMOVE\n",
    "###\n"
   ]
  },
  {
   "cell_type": "code",
   "execution_count": 14,
   "metadata": {
    "collapsed": true,
    "deletable": false,
    "editable": false,
    "nbgrader": {
     "grade": true,
     "grade_id": "Q3:Unique1",
     "locked": true,
     "points": "1",
     "solution": false
    }
   },
   "outputs": [],
   "source": [
    "###\n",
    "### AUTOGRADER TEST - DO NOT REMOVE\n",
    "###\n"
   ]
  },
  {
   "cell_type": "code",
   "execution_count": 15,
   "metadata": {
    "collapsed": true,
    "deletable": false,
    "editable": false,
    "nbgrader": {
     "grade": true,
     "grade_id": "Q3:Unique2",
     "locked": true,
     "points": "1",
     "solution": false
    }
   },
   "outputs": [],
   "source": [
    "###\n",
    "### AUTOGRADER TEST - DO NOT REMOVE\n",
    "###\n"
   ]
  },
  {
   "cell_type": "markdown",
   "metadata": {
    "deletable": false,
    "editable": false,
    "nbgrader": {
     "grade": false,
     "locked": true,
     "solution": false
    }
   },
   "source": [
    "## Q4 "
   ]
  },
  {
   "cell_type": "code",
   "execution_count": 16,
   "metadata": {},
   "outputs": [
    {
     "name": "stdout",
     "output_type": "stream",
     "text": [
      "4\n"
     ]
    }
   ],
   "source": [
    "# Write a function that splits a given sentence into words and counts the number of words. The \n",
    "# sentence consists of alphanumeric characters, and the words are separated by spaces. You should \n",
    "# use the split() function in python to split a string. \n",
    "\n",
    "# For all the questions, assume that the words are separated by whitespace character, unless \n",
    "# specified otherwise.\n",
    "\n",
    "# splitStringCount(string) takes as input a sentence, splits the string into words and returns a \n",
    "# count of the number words obtained\n",
    "\n",
    "\n",
    "def splitStringCount(string):\n",
    "    \n",
    "    ###\n",
    "    words = string.split()\n",
    "    return len(words)\n",
    "    ###\n",
    "\n",
    "\n",
    "# Example: \n",
    "print( splitStringCount('The train was late') ) # outputs 4"
   ]
  },
  {
   "cell_type": "code",
   "execution_count": 17,
   "metadata": {
    "collapsed": true,
    "deletable": false,
    "editable": false,
    "nbgrader": {
     "grade": true,
     "grade_id": "Q4:SplitString0",
     "locked": true,
     "points": "1",
     "solution": false
    }
   },
   "outputs": [],
   "source": [
    "###\n",
    "### AUTOGRADER TEST - DO NOT REMOVE\n",
    "###\n"
   ]
  },
  {
   "cell_type": "code",
   "execution_count": 18,
   "metadata": {
    "collapsed": true,
    "deletable": false,
    "editable": false,
    "nbgrader": {
     "grade": true,
     "grade_id": "Q4:SplitString1",
     "locked": true,
     "points": "1",
     "solution": false
    }
   },
   "outputs": [],
   "source": [
    "###\n",
    "### AUTOGRADER TEST - DO NOT REMOVE\n",
    "###\n"
   ]
  },
  {
   "cell_type": "code",
   "execution_count": 19,
   "metadata": {
    "collapsed": true,
    "deletable": false,
    "editable": false,
    "nbgrader": {
     "grade": true,
     "grade_id": "Q4:SplitString2",
     "locked": true,
     "points": "1",
     "solution": false
    }
   },
   "outputs": [],
   "source": [
    "###\n",
    "### AUTOGRADER TEST - DO NOT REMOVE\n",
    "###\n"
   ]
  },
  {
   "cell_type": "markdown",
   "metadata": {
    "collapsed": true,
    "deletable": false,
    "editable": false,
    "nbgrader": {
     "grade": false,
     "locked": true,
     "solution": false
    }
   },
   "source": [
    "## Q5"
   ]
  },
  {
   "cell_type": "code",
   "execution_count": 20,
   "metadata": {
    "nbgrader": {
     "grade": false,
     "locked": false,
     "solution": false
    }
   },
   "outputs": [
    {
     "name": "stdout",
     "output_type": "stream",
     "text": [
      "False\n",
      "True\n",
      "True\n"
     ]
    }
   ],
   "source": [
    "# Write a function to check if a string is a palindrome. \n",
    "\n",
    "# isPalindrome(string) takes as input a string, and returns a boolean value indicating whether the \n",
    "# input string is a palindrome or not. The output should be case insensitive. Also, empty strings \n",
    "# are not considered as palindromes. \n",
    "#\n",
    "# Example: \n",
    "#   print( isPalindrome(\"banana\") ) # outputs False\n",
    "#   print( isPalindrome(\"madam\") )  # outputs True\n",
    "#   print( isPalindrome(\"Anna\") )   # outputs True\n",
    "\n",
    "def isPalindrome(string):\n",
    "    \n",
    "    string1 = string.lower()\n",
    "    reverse = string1[::-1]\n",
    "    if(len(string1)==0):\n",
    "        return False\n",
    "    if(string1 == reverse):\n",
    "        return True\n",
    "    else:\n",
    "        return False\n",
    "        \n",
    "# Example: \n",
    "print( isPalindrome(\"banana\") ) # outputs False\n",
    "print( isPalindrome(\"madam\") )  # outputs True\n",
    "print( isPalindrome(\"Anna\") )   # outputs True"
   ]
  },
  {
   "cell_type": "code",
   "execution_count": 21,
   "metadata": {
    "collapsed": true,
    "deletable": false,
    "editable": false,
    "nbgrader": {
     "grade": true,
     "grade_id": "Q5:Palindrome0",
     "locked": true,
     "points": "0.5",
     "solution": false
    }
   },
   "outputs": [],
   "source": [
    "# Code to test Palindrome. \n",
    "    \n",
    "###\n",
    "### AUTOGRADER TEST - DO NOT REMOVE\n",
    "###\n"
   ]
  },
  {
   "cell_type": "code",
   "execution_count": 22,
   "metadata": {
    "collapsed": true,
    "deletable": false,
    "editable": false,
    "nbgrader": {
     "grade": true,
     "grade_id": "Q5:Palindrome1",
     "locked": true,
     "points": "0.5",
     "solution": false
    }
   },
   "outputs": [],
   "source": [
    "# Code to test Palindrome. \n",
    "    \n",
    "###\n",
    "### AUTOGRADER TEST - DO NOT REMOVE\n",
    "###\n"
   ]
  },
  {
   "cell_type": "code",
   "execution_count": 23,
   "metadata": {
    "collapsed": true,
    "deletable": false,
    "editable": false,
    "nbgrader": {
     "grade": true,
     "grade_id": "Q5:Palindrome2",
     "locked": true,
     "points": "0.5",
     "solution": false
    }
   },
   "outputs": [],
   "source": [
    "# Code to test Palindrome. \n",
    "    \n",
    "###\n",
    "### AUTOGRADER TEST - DO NOT REMOVE\n",
    "###\n"
   ]
  },
  {
   "cell_type": "code",
   "execution_count": 24,
   "metadata": {
    "collapsed": true,
    "deletable": false,
    "editable": false,
    "nbgrader": {
     "grade": true,
     "grade_id": "Q5:Palindrome3",
     "locked": true,
     "points": "0.5",
     "solution": false
    }
   },
   "outputs": [],
   "source": [
    "# Code to test Palindrome\n",
    "# case insensitive\n",
    "\n",
    "###\n",
    "### AUTOGRADER TEST - DO NOT REMOVE\n",
    "###\n"
   ]
  },
  {
   "cell_type": "code",
   "execution_count": 25,
   "metadata": {
    "collapsed": true,
    "deletable": false,
    "editable": false,
    "nbgrader": {
     "grade": true,
     "grade_id": "Q5:Palindrome4",
     "locked": true,
     "points": "0.5",
     "solution": false
    }
   },
   "outputs": [],
   "source": [
    "# Code to test Palindrome. \n",
    "\n",
    "###\n",
    "### AUTOGRADER TEST - DO NOT REMOVE\n",
    "###\n"
   ]
  },
  {
   "cell_type": "code",
   "execution_count": 26,
   "metadata": {
    "collapsed": true,
    "deletable": false,
    "editable": false,
    "nbgrader": {
     "grade": true,
     "grade_id": "Q6:Palindrome5",
     "locked": true,
     "points": ".5",
     "solution": false
    }
   },
   "outputs": [],
   "source": [
    "# Code to test Palindrome. \n",
    "\n",
    "###\n",
    "### AUTOGRADER TEST - DO NOT REMOVE\n",
    "###\n"
   ]
  },
  {
   "cell_type": "markdown",
   "metadata": {
    "deletable": false,
    "editable": false,
    "nbgrader": {
     "grade": false,
     "locked": true,
     "solution": false
    }
   },
   "source": [
    "## Q6"
   ]
  },
  {
   "cell_type": "code",
   "execution_count": 27,
   "metadata": {},
   "outputs": [
    {
     "name": "stdout",
     "output_type": "stream",
     "text": [
      "['madam', 'anna']\n",
      "[]\n"
     ]
    }
   ],
   "source": [
    "# Write a function to find the unique palindromes in a given string.\n",
    "\n",
    "# uniquePalindromes(string) takes as input a string delimited by whitespace characters, and returns \n",
    "# a list of unique palindromes in the string. You should convert the given string to lowercase. The \n",
    "# output list must be sorted in decreasing lexicographic order (reverse sorted order). You should \n",
    "# return an empty list if the string doesn't contain any palindrome words. You can use your above \n",
    "# defined function 'isPalindrome' to check if a word is palindrome or not. \n",
    "\n",
    "#\n",
    "# Example: \n",
    "#   print( uniquePalindromes('Madam asked Anna to go out but Anna refused') ) # outputs ['madam', 'anna']\n",
    "#   print( uniquePalindromes('Palindromes are also found in numbers and are studied in recreational mathematics') ) # outputs []\n",
    "\n",
    "\n",
    "def uniquePalindromes(string):\n",
    "    \n",
    "    \n",
    "    string1 = string.lower()\n",
    "    words = string1.split()\n",
    "    res = []\n",
    "    results = []\n",
    "    for a in words:\n",
    "        if(isPalindrome(a)==True):\n",
    "            res.append(a)\n",
    "        else: \n",
    "            continue\n",
    "            \n",
    "   \n",
    "    results = list(set(res))\n",
    "    new_res = sorted(results)\n",
    "    return (new_res[::-1])\n",
    "    \n",
    "    \n",
    "\n",
    "# Example: \n",
    "print( uniquePalindromes('Madam asked Anna to go out but Anna refused') ) # outputs ['madam', 'anna']\n",
    "print( uniquePalindromes('Palindromes are also found in numbers and are studied in recreational mathematics') ) # outputs []\n"
   ]
  },
  {
   "cell_type": "code",
   "execution_count": 28,
   "metadata": {
    "collapsed": true,
    "deletable": false,
    "editable": false,
    "nbgrader": {
     "grade": true,
     "grade_id": "Q6:UniquePalindrome0",
     "locked": true,
     "points": "1",
     "solution": false
    }
   },
   "outputs": [],
   "source": [
    "###\n",
    "### AUTOGRADER TEST - DO NOT REMOVE\n",
    "###\n"
   ]
  },
  {
   "cell_type": "code",
   "execution_count": 29,
   "metadata": {
    "collapsed": true,
    "deletable": false,
    "editable": false,
    "nbgrader": {
     "grade": true,
     "grade_id": "Q6:UniquePalindrome1",
     "locked": true,
     "points": "1",
     "solution": false
    }
   },
   "outputs": [],
   "source": [
    "###\n",
    "### AUTOGRADER TEST - DO NOT REMOVE\n",
    "###\n"
   ]
  },
  {
   "cell_type": "code",
   "execution_count": 30,
   "metadata": {
    "collapsed": true,
    "deletable": false,
    "editable": false,
    "nbgrader": {
     "grade": true,
     "grade_id": "Q6:UniquePalindrome2",
     "locked": true,
     "points": "1",
     "solution": false
    }
   },
   "outputs": [],
   "source": [
    "###\n",
    "### AUTOGRADER TEST - DO NOT REMOVE\n",
    "###\n"
   ]
  },
  {
   "cell_type": "markdown",
   "metadata": {
    "deletable": false,
    "editable": false,
    "nbgrader": {
     "grade": false,
     "locked": true,
     "solution": false
    }
   },
   "source": [
    "## Q7 "
   ]
  },
  {
   "cell_type": "code",
   "execution_count": 31,
   "metadata": {},
   "outputs": [
    {
     "name": "stdout",
     "output_type": "stream",
     "text": [
      "[11, 10, 10, 11, 11, 5, 0, 10, 11, 12, 13, 12, 4, 0, 10, 11, 13, 10, 10, 6, 0, 9, 10, 13, 11, 16, 5, 0, 11, 10, 11, 11, 11, 5, 0, 11, 14, 13, 12, 13, 5, 0, 10, 12, 8, 12, 10, 2, 0, 11, 14, 10, 11, 11, 4, 0, 10, 12, 12, 10, 10, 5]\n"
     ]
    }
   ],
   "source": [
    "# Write a function to read in from a given file and count the number of words in each line.\n",
    "\n",
    "# numWords(filename) takes as input the file to read the text from, and returns a list of number of \n",
    "# words in each line. The words in the input file are separated by whitespace. The output should be \n",
    "# in the order of lines in the file. You can use your code in Q4 above to split the lines into words \n",
    "# and count the number of words. \n",
    "#\n",
    "\n",
    "\n",
    "def numWords(filename):\n",
    "    \n",
    "    ###\n",
    "    f = open(filename, \"r\")\n",
    "    res = []\n",
    "    for line in f:\n",
    "        words_line = len(line.split())\n",
    "        res.append(words_line)\n",
    "     \n",
    "    return res\n",
    "    f.close()\n",
    "        \n",
    "        \n",
    "    \n",
    "    ###\n",
    "\n",
    "# Example: \n",
    "print( numWords('raven-poem_demo.txt') )\n",
    "# outputs [11, 10, 10, 11, 11, 5, 0, 10, 11, 12, 13, 12, 4, 0, 10, 11, 13, 10, 10, 6, 0, 9, 10, 13, 11, 16, 5, 0, 11, 10, 11, 11,\n",
    "# 11, 5, 0, 11, 14, 13, 12, 13, 5, 0, 10, 12, 8, 12, 10, 2, 0, 11, 14, 10, 11, 11, 4, 0, 10, 12, 12, 10, 10, 5]\n"
   ]
  },
  {
   "cell_type": "code",
   "execution_count": 32,
   "metadata": {
    "collapsed": true,
    "deletable": false,
    "editable": false,
    "nbgrader": {
     "grade": true,
     "grade_id": "Q7:NumWords0",
     "locked": true,
     "points": "1",
     "solution": false
    }
   },
   "outputs": [],
   "source": [
    "###\n",
    "### AUTOGRADER TEST - DO NOT REMOVE\n",
    "###\n"
   ]
  },
  {
   "cell_type": "code",
   "execution_count": 33,
   "metadata": {
    "collapsed": true,
    "deletable": false,
    "editable": false,
    "nbgrader": {
     "grade": true,
     "grade_id": "Q7:NumWords1",
     "locked": true,
     "points": "2",
     "solution": false
    }
   },
   "outputs": [],
   "source": [
    "###\n",
    "### AUTOGRADER TEST - DO NOT REMOVE\n",
    "###\n"
   ]
  },
  {
   "cell_type": "markdown",
   "metadata": {
    "deletable": false,
    "editable": false,
    "nbgrader": {
     "grade": false,
     "locked": true,
     "solution": false
    }
   },
   "source": [
    "## Q8"
   ]
  },
  {
   "cell_type": "code",
   "execution_count": 34,
   "metadata": {},
   "outputs": [
    {
     "name": "stdout",
     "output_type": "stream",
     "text": [
      "8.790322580645162\n"
     ]
    }
   ],
   "source": [
    "# Write a function to calculate the average number of words in each line of a given file. \n",
    "\n",
    "# averageWords(filename) takes as input the filename to read from, and returns the average number of \n",
    "# words per line in that file. \n",
    "#\n",
    "\n",
    "\n",
    "def averageWords(filename):\n",
    "    \n",
    "    f = open(filename, \"r\")\n",
    "    res = []\n",
    "    i=0\n",
    "    for line in f:\n",
    "        i+=1\n",
    "        words_line = len(line.split())\n",
    "        res.append(words_line)\n",
    "        \n",
    "     \n",
    "    total = sum(res)\n",
    "    average = total/i\n",
    "    #avg = \"{:.2f}\".format(average)\n",
    "    #return avg\n",
    "    return average\n",
    "    f.close()\n",
    "\n",
    "# Example: \n",
    "print( averageWords('raven-poem_demo.txt') ) # outputs 8.79..."
   ]
  },
  {
   "cell_type": "code",
   "execution_count": 35,
   "metadata": {
    "collapsed": true,
    "deletable": false,
    "editable": false,
    "nbgrader": {
     "grade": true,
     "grade_id": "Q8:AverageWords0",
     "locked": true,
     "points": "1",
     "solution": false
    }
   },
   "outputs": [],
   "source": [
    "###\n",
    "### AUTOGRADER TEST - DO NOT REMOVE\n",
    "###\n"
   ]
  },
  {
   "cell_type": "code",
   "execution_count": 36,
   "metadata": {
    "collapsed": true,
    "deletable": false,
    "editable": false,
    "nbgrader": {
     "grade": true,
     "grade_id": "Q8:AverageWords1",
     "locked": true,
     "points": "2",
     "solution": false
    }
   },
   "outputs": [],
   "source": [
    "###\n",
    "### AUTOGRADER TEST - DO NOT REMOVE\n",
    "###\n"
   ]
  },
  {
   "cell_type": "markdown",
   "metadata": {
    "deletable": false,
    "editable": false,
    "nbgrader": {
     "grade": false,
     "locked": true,
     "solution": false
    }
   },
   "source": [
    "## Q9:"
   ]
  },
  {
   "cell_type": "code",
   "execution_count": 37,
   "metadata": {},
   "outputs": [
    {
     "name": "stdout",
     "output_type": "stream",
     "text": [
      "27\n"
     ]
    }
   ],
   "source": [
    "# Write a function to count the number of lines in a file, containing the substring \"ing\".\n",
    "\n",
    "# countLines(filename) takes as input the filename to read from, and returns the number of lines that \n",
    "# contain the substring 'ing'. All occurrences of the given substring in a line are counted only once.\n",
    "#\n",
    "\n",
    "\n",
    "def countLines(filename):\n",
    "    \n",
    "    ###\n",
    "    f = open(filename, \"r\")\n",
    "    i=0\n",
    "    search_string = \"ing\"\n",
    "    for line in f:\n",
    "        if search_string in line:\n",
    "            i+=1\n",
    "        else:\n",
    "            continue\n",
    "    \n",
    "    return i\n",
    "    f.close()\n",
    "    ###\n",
    "\n",
    "# Example: \n",
    "print( countLines('raven-poem_demo.txt') ) # outputs 27"
   ]
  },
  {
   "cell_type": "code",
   "execution_count": 38,
   "metadata": {
    "collapsed": true,
    "deletable": false,
    "editable": false,
    "nbgrader": {
     "grade": true,
     "grade_id": "Q9:CountLines0",
     "locked": true,
     "points": "1",
     "solution": false
    }
   },
   "outputs": [],
   "source": [
    "###\n",
    "### AUTOGRADER TEST - DO NOT REMOVE\n",
    "###\n"
   ]
  },
  {
   "cell_type": "code",
   "execution_count": 39,
   "metadata": {
    "collapsed": true,
    "deletable": false,
    "editable": false,
    "nbgrader": {
     "grade": true,
     "grade_id": "Q9:CountLines1",
     "locked": true,
     "points": "2",
     "solution": false
    }
   },
   "outputs": [],
   "source": [
    "###\n",
    "### AUTOGRADER TEST - DO NOT REMOVE\n",
    "###\n"
   ]
  },
  {
   "cell_type": "markdown",
   "metadata": {
    "deletable": false,
    "editable": false,
    "nbgrader": {
     "grade": false,
     "locked": true,
     "solution": false
    }
   },
   "source": [
    "## Q10"
   ]
  },
  {
   "cell_type": "code",
   "execution_count": 40,
   "metadata": {
    "nbgrader": {
     "grade": false,
     "locked": false,
     "solution": false
    }
   },
   "outputs": [
    {
     "name": "stdout",
     "output_type": "stream",
     "text": [
      "['tattarrattat', 'redivider', 'detartrated', 'aibohphobia', 'a']\n"
     ]
    }
   ],
   "source": [
    "# Write a function to read text from an input file, find all unique palindromes and return them in \n",
    "# sorted order. \n",
    "\n",
    "# findPalindromes(filename) takes as input the file to read the text from, and returns a list of the \n",
    "# unique palindromes sorted in decreasing lexicographic order (reverse sorted order), in lower case. \n",
    "# You can use your code above for checking if a string is a palindrome. \n",
    "\n",
    "\n",
    "def findPalindromes(filename):\n",
    "    \n",
    "    ###\n",
    "    f = open(filename, \"r\")\n",
    "    res = []\n",
    "    results = []\n",
    "    words_new = []\n",
    "    \n",
    "    for line in f:\n",
    "        words = line.split()\n",
    "        for item in words:\n",
    "            words_new.append(item.lower())\n",
    "        for pal in words_new:\n",
    "            if(isPalindrome(pal)==True):\n",
    "                res.append(pal)\n",
    "            else: \n",
    "                continue\n",
    "        \n",
    "    results = list(set(res))\n",
    "    new_res = sorted(results)\n",
    "    return (new_res[::-1])\n",
    "    f.close()\n",
    "    ###\n",
    "\n",
    "# For example,\n",
    "# filename: palindrome.txt\n",
    "# output: ['tattarrattat', 'redivider', 'detartrated', 'aibohphobia', 'a']\n",
    "print(findPalindromes('palindrome.txt'))"
   ]
  },
  {
   "cell_type": "code",
   "execution_count": 41,
   "metadata": {
    "collapsed": true,
    "deletable": false,
    "editable": false,
    "nbgrader": {
     "grade": true,
     "grade_id": "Q10:FilePalindromes0",
     "locked": true,
     "points": "1",
     "solution": false
    }
   },
   "outputs": [],
   "source": [
    "\n",
    "###\n",
    "### AUTOGRADER TEST - DO NOT REMOVE\n",
    "###\n"
   ]
  },
  {
   "cell_type": "code",
   "execution_count": 42,
   "metadata": {
    "collapsed": true,
    "deletable": false,
    "editable": false,
    "nbgrader": {
     "grade": true,
     "grade_id": "Q10:FilePalindromes1",
     "locked": true,
     "points": "2",
     "solution": false
    }
   },
   "outputs": [],
   "source": [
    "###\n",
    "### AUTOGRADER TEST - DO NOT REMOVE\n",
    "###\n"
   ]
  },
  {
   "cell_type": "code",
   "execution_count": null,
   "metadata": {
    "collapsed": true
   },
   "outputs": [],
   "source": []
  }
 ],
 "metadata": {
  "kernelspec": {
   "display_name": "Python 3 [3.6]",
   "language": "python",
   "name": "python3"
  },
  "language_info": {
   "codemirror_mode": {
    "name": "ipython",
    "version": 3
   },
   "file_extension": ".py",
   "mimetype": "text/x-python",
   "name": "python",
   "nbconvert_exporter": "python",
   "pygments_lexer": "ipython3",
   "version": "3.6.4"
  }
 },
 "nbformat": 4,
 "nbformat_minor": 2
}
