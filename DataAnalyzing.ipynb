{
 "cells": [
  {
   "cell_type": "markdown",
   "metadata": {
    "collapsed": true,
    "deletable": false,
    "editable": false,
    "nbgrader": {
     "grade": false,
     "locked": true,
     "solution": false
    }
   },
   "source": [
    "# Homework 2"
   ]
  },
  {
   "cell_type": "markdown",
   "metadata": {
    "deletable": false,
    "editable": false,
    "nbgrader": {
     "grade": false,
     "locked": true,
     "solution": false
    }
   },
   "source": [
    "For this homework, you are provided with a set of demo files.\n",
    "An example output is provided for the demo files so that you can compare your answers. \n",
    "We will test your output on test files with the same format and name, but either a different sample of rows or different values in the fields. \n",
    "\n",
    "For this assignment you cannot use the python library scikit-learn (sklearn). You can use the python package BeautifulSoup to parse web pages."
   ]
  },
  {
   "cell_type": "code",
   "execution_count": 2,
   "metadata": {
    "collapsed": true,
    "deletable": false,
    "editable": false,
    "nbgrader": {
     "grade": false,
     "locked": true,
     "solution": false
    }
   },
   "outputs": [],
   "source": [
    "# Run this cell so that the necessary packages are imported. The requests package \n",
    "# can be used to open a connection to a url.\n",
    "\n",
    "import pandas as pd\n",
    "from bs4 import BeautifulSoup\n",
    "import requests\n",
    "import string"
   ]
  },
  {
   "cell_type": "markdown",
   "metadata": {
    "deletable": false,
    "editable": false,
    "nbgrader": {
     "grade": false,
     "locked": true,
     "solution": false
    }
   },
   "source": [
    "## Q1: CSV Parsing "
   ]
  },
  {
   "cell_type": "markdown",
   "metadata": {
    "deletable": false,
    "editable": false,
    "nbgrader": {
     "grade": false,
     "locked": true,
     "solution": false
    }
   },
   "source": [
    "Read from the csv file with the specified filename using the python package 'pandas'. It has three columns: Index, Height (Inches), and Weight (Pounds). Each row corresponds to an individual. There is no header row in the file. \n",
    "\n",
    "Output the minimum value of height and the maximum value of weight in the file.  \n"
   ]
  },
  {
   "cell_type": "code",
   "execution_count": 2,
   "metadata": {
    "nbgrader": {
     "grade": false,
     "locked": false,
     "solution": false
    }
   },
   "outputs": [
    {
     "data": {
      "text/plain": [
       "(65.78, 153.03)"
      ]
     },
     "execution_count": 2,
     "metadata": {},
     "output_type": "execute_result"
    }
   ],
   "source": [
    "# findMinMax(fileName) takes as input a string which refers to the absolute name \n",
    "# of a csv file and returns a tuple. The first element of the tuple\n",
    "# reports the minimum of the values in the 2nd column, and the second element  \n",
    "# reports the maximum of the values in the 3rd column.\n",
    "#\n",
    "# Example:\n",
    "#\n",
    "# fileName: height_weight_demo.csv\n",
    "# output: (65.78, 153.03)\n",
    "\n",
    "def findMinMax(filename):\n",
    "    \n",
    "    d = pd.read_csv (filename, header=None)\n",
    "    min_value = d[1].min()\n",
    "    max_value = d[2].max()\n",
    "    return min_value,max_value\n",
    "    \n",
    "    \n",
    "    \n",
    "    \n",
    "# Example Test Case Q1\n",
    "findMinMax(\"height_weight_demo.csv\")\n",
    "# output: (65.78, 153.03)"
   ]
  },
  {
   "cell_type": "code",
   "execution_count": 3,
   "metadata": {
    "collapsed": true,
    "deletable": false,
    "editable": false,
    "nbgrader": {
     "grade": true,
     "grade_id": "Q1:CSVParsing1",
     "locked": true,
     "points": "1",
     "solution": false
    }
   },
   "outputs": [],
   "source": [
    "###\n",
    "### AUTOGRADER TEST - DO NOT REMOVE\n",
    "###\n"
   ]
  },
  {
   "cell_type": "code",
   "execution_count": 4,
   "metadata": {
    "collapsed": true,
    "deletable": false,
    "editable": false,
    "nbgrader": {
     "grade": true,
     "grade_id": "Q1:CSVParsing2",
     "locked": true,
     "points": "2",
     "solution": false
    }
   },
   "outputs": [],
   "source": [
    "###\n",
    "### AUTOGRADER TEST - DO NOT REMOVE\n",
    "###\n"
   ]
  },
  {
   "cell_type": "markdown",
   "metadata": {
    "deletable": false,
    "editable": false,
    "nbgrader": {
     "grade": false,
     "locked": true,
     "solution": false
    }
   },
   "source": [
    "## Q2: Analyzing Data in CSV "
   ]
  },
  {
   "cell_type": "markdown",
   "metadata": {
    "deletable": false,
    "editable": false,
    "nbgrader": {
     "grade": false,
     "locked": true,
     "solution": false
    }
   },
   "source": [
    "Use the csv file 'bush-gore-results-fl_demo.csv' as sample data for Q2. There is a header row in the file. Each row corresponds to a unique county in Florida in the 2000 presidential election. The columns record data about each county, including the votes received for each of ten candidates.   "
   ]
  },
  {
   "cell_type": "markdown",
   "metadata": {
    "deletable": false,
    "editable": false,
    "nbgrader": {
     "grade": false,
     "locked": true,
     "solution": false
    }
   },
   "source": [
    "(a) Determine the shape of data frame (i.e., the number of rows and number of columns). Return as a tuple. "
   ]
  },
  {
   "cell_type": "code",
   "execution_count": 5,
   "metadata": {
    "nbgrader": {
     "grade": false,
     "locked": false,
     "solution": false
    }
   },
   "outputs": [
    {
     "data": {
      "text/plain": [
       "(67, 21)"
      ]
     },
     "execution_count": 5,
     "metadata": {},
     "output_type": "execute_result"
    }
   ],
   "source": [
    "# getShape(filename) takes the filename of a csv file as input and returns \n",
    "# the shape of the data as a tuple (num rows, num cols).\n",
    "\n",
    "# For example,\n",
    "# filename: bush-gore-results-fl_demo.csv\n",
    "# output: (67, 21)\n",
    "\n",
    "def getShape(filename):\n",
    "\n",
    "    d = pd.read_csv (filename)\n",
    "    return len(d), len(d.columns)\n",
    "\n",
    "    \n",
    "    \n",
    "    \n",
    "    \n",
    "# Example Test Case Q2a\n",
    "getShape(\"bush-gore-results-fl_demo.csv\")\n",
    "# output: (67, 21)   "
   ]
  },
  {
   "cell_type": "code",
   "execution_count": 6,
   "metadata": {
    "collapsed": true,
    "deletable": false,
    "editable": false,
    "nbgrader": {
     "grade": true,
     "grade_id": "Q2a:getShape1",
     "locked": true,
     "points": "1",
     "solution": false
    }
   },
   "outputs": [],
   "source": [
    "###\n",
    "### AUTOGRADER TEST - DO NOT REMOVE\n",
    "###\n"
   ]
  },
  {
   "cell_type": "code",
   "execution_count": 7,
   "metadata": {
    "collapsed": true,
    "deletable": false,
    "editable": false,
    "nbgrader": {
     "grade": true,
     "grade_id": "Q2a:getShape2",
     "locked": true,
     "points": "2",
     "solution": false
    }
   },
   "outputs": [],
   "source": [
    "###\n",
    "### AUTOGRADER TEST - DO NOT REMOVE\n",
    "###\n"
   ]
  },
  {
   "cell_type": "markdown",
   "metadata": {
    "deletable": false,
    "editable": false,
    "nbgrader": {
     "grade": false,
     "locked": true,
     "solution": false
    }
   },
   "source": [
    "(b) Determine how many votes Gore received. "
   ]
  },
  {
   "cell_type": "code",
   "execution_count": 8,
   "metadata": {},
   "outputs": [
    {
     "data": {
      "text/plain": [
       "2915817"
      ]
     },
     "execution_count": 8,
     "metadata": {},
     "output_type": "execute_result"
    }
   ],
   "source": [
    "# getGoreVotes(filename) takes the filename of a csv file as input and returns \n",
    "# the total of the votes submittted for Gore.\n",
    "\n",
    "# For example,\n",
    "# filename: bush-gore-results-fl_demo.csv\n",
    "# output: 2915817\n",
    "\n",
    "def getGoreVotes(filename):\n",
    "\n",
    "    d = pd.read_csv (filename)\n",
    "    total = d['gore'].sum()\n",
    "    return total\n",
    "\n",
    "    \n",
    "    \n",
    "    \n",
    "    \n",
    "# Example Test Case Q2b\n",
    "getGoreVotes(\"bush-gore-results-fl_demo.csv\")\n",
    "# output: 2915817"
   ]
  },
  {
   "cell_type": "code",
   "execution_count": 9,
   "metadata": {
    "collapsed": true,
    "deletable": false,
    "editable": false,
    "nbgrader": {
     "grade": true,
     "grade_id": "Q2b:getGoreVotes1",
     "locked": true,
     "points": "1",
     "solution": false
    }
   },
   "outputs": [],
   "source": [
    "###\n",
    "### AUTOGRADER TEST - DO NOT REMOVE\n",
    "###\n"
   ]
  },
  {
   "cell_type": "code",
   "execution_count": 10,
   "metadata": {
    "collapsed": true,
    "deletable": false,
    "editable": false,
    "nbgrader": {
     "grade": true,
     "grade_id": "Q2b:getGoreVotes2",
     "locked": true,
     "points": "2",
     "solution": false
    }
   },
   "outputs": [],
   "source": [
    "###\n",
    "### AUTOGRADER TEST - DO NOT REMOVE\n",
    "###\n"
   ]
  },
  {
   "cell_type": "markdown",
   "metadata": {
    "deletable": false,
    "editable": false,
    "nbgrader": {
     "grade": false,
     "locked": true,
     "solution": false
    }
   },
   "source": [
    "(c) The last ten columns record the votes registered for each of the ten candidates. Determine how many votes were submitted in total. "
   ]
  },
  {
   "cell_type": "code",
   "execution_count": 11,
   "metadata": {},
   "outputs": [
    {
     "data": {
      "text/plain": [
       "6024092"
      ]
     },
     "execution_count": 11,
     "metadata": {},
     "output_type": "execute_result"
    }
   ],
   "source": [
    "# getTotalVotes(filename) takes the filename of a csv file as input and returns \n",
    "# the total count of the votes submitted (recorded in the last 10 columns).\n",
    "\n",
    "# For example,\n",
    "# filename: bush-gore-results-fl_demo.csv\n",
    "# output: 6024092\n",
    "\n",
    "def getTotalVotes(filename):\n",
    "\n",
    "    d = pd.read_csv (filename)\n",
    "    total_sum = d['bush'].sum()+d['gore'].sum()+d['brow'].sum()+d['nade'].sum()+d['harr'].sum()+d['hage'].sum()+d[\"buch\"].sum()+d['mcre'].sum()+d['phil'].sum()+d['moor'].sum()\n",
    "    return total_sum\n",
    "\n",
    "    \n",
    "    \n",
    "    \n",
    "    \n",
    "# Example Test Case Q2c\n",
    "getTotalVotes(\"bush-gore-results-fl_demo.csv\")\n",
    "# output: 6024092"
   ]
  },
  {
   "cell_type": "code",
   "execution_count": 12,
   "metadata": {
    "collapsed": true,
    "deletable": false,
    "editable": false,
    "nbgrader": {
     "grade": true,
     "grade_id": "Q2c:getTotalVotes1",
     "locked": true,
     "points": "1",
     "solution": false
    }
   },
   "outputs": [],
   "source": [
    "###\n",
    "### AUTOGRADER TEST - DO NOT REMOVE\n",
    "###\n"
   ]
  },
  {
   "cell_type": "code",
   "execution_count": 13,
   "metadata": {
    "collapsed": true,
    "deletable": false,
    "editable": false,
    "nbgrader": {
     "grade": true,
     "grade_id": "Q2c:getTotalVotes2",
     "locked": true,
     "points": "2",
     "solution": false
    }
   },
   "outputs": [],
   "source": [
    "###\n",
    "### AUTOGRADER TEST - DO NOT REMOVE\n",
    "###\n"
   ]
  },
  {
   "cell_type": "markdown",
   "metadata": {
    "deletable": false,
    "editable": false,
    "nbgrader": {
     "grade": false,
     "locked": true,
     "solution": false
    }
   },
   "source": [
    "(d) The column named \"npop\" records the size of each county. Determine who won the largest county. "
   ]
  },
  {
   "cell_type": "code",
   "execution_count": 14,
   "metadata": {},
   "outputs": [
    {
     "name": "stderr",
     "output_type": "stream",
     "text": [
      "/usr/local/lib/python3.6/site-packages/ipykernel_launcher.py:13: FutureWarning: 'argmax' is deprecated, use 'idxmax' instead. The behavior of 'argmax'\n",
      "will be corrected to return the positional maximum in the future.\n",
      "Use 'series.values.argmax' to get the position of the maximum now.\n",
      "  del sys.path[0]\n"
     ]
    },
    {
     "data": {
      "text/plain": [
       "'gore'"
      ]
     },
     "execution_count": 14,
     "metadata": {},
     "output_type": "execute_result"
    }
   ],
   "source": [
    "# largestCountyWinner(filename) takes a pointer to a csv file as input and returns \n",
    "# the candidate (header name) who won the largest county.\n",
    "#\n",
    "# For example,\n",
    "# filename: bush-gore-results-fl_demo.csv\n",
    "# output: gore\n",
    "\n",
    "def largestCountyWinner(filename):\n",
    "\n",
    "    d = pd.read_csv (filename)\n",
    "    row_value = d['npop'].idxmax()\n",
    "    results = d.iloc[row_value]\n",
    "    return results[10:20].argmax()\n",
    "    \n",
    "    \n",
    "    \n",
    "   \n",
    "\n",
    "    \n",
    "    \n",
    "    \n",
    "    \n",
    "# Example Test Case Q2d\n",
    "largestCountyWinner(\"bush-gore-results-fl_demo.csv\")\n",
    "# output: gore"
   ]
  },
  {
   "cell_type": "code",
   "execution_count": 15,
   "metadata": {
    "collapsed": true,
    "deletable": false,
    "editable": false,
    "nbgrader": {
     "grade": true,
     "grade_id": "Q2d:largestCountyWinner1",
     "locked": true,
     "points": "1",
     "solution": false
    }
   },
   "outputs": [],
   "source": [
    "###\n",
    "### AUTOGRADER TEST - DO NOT REMOVE\n",
    "###\n"
   ]
  },
  {
   "cell_type": "code",
   "execution_count": 16,
   "metadata": {
    "collapsed": true,
    "deletable": false,
    "editable": false,
    "nbgrader": {
     "grade": true,
     "grade_id": "Q2d:largestCountyWinner2",
     "locked": true,
     "points": "2",
     "solution": false
    }
   },
   "outputs": [],
   "source": [
    "###\n",
    "### AUTOGRADER TEST - DO NOT REMOVE\n",
    "###\n"
   ]
  },
  {
   "cell_type": "markdown",
   "metadata": {
    "deletable": false,
    "editable": false,
    "nbgrader": {
     "grade": false,
     "locked": true,
     "solution": false
    }
   },
   "source": [
    "(e) Each row corresponds to a unique county. Determine how many counties Bush won (i.e., where Bush received the maximum number of votes). "
   ]
  },
  {
   "cell_type": "code",
   "execution_count": 17,
   "metadata": {},
   "outputs": [
    {
     "data": {
      "text/plain": [
       "51"
      ]
     },
     "execution_count": 17,
     "metadata": {},
     "output_type": "execute_result"
    }
   ],
   "source": [
    "# countiesWon(filename) takes the filename of a csv file as input and returns the \n",
    "# number of counties won by Bush.\n",
    "\n",
    "# For example,\n",
    "# filename: bush-gore-results-fl_demo.csv\n",
    "# output: 51\n",
    "\n",
    "def countiesWon(filename):\n",
    "    \n",
    "    d = pd.read_csv(filename)\n",
    "    count = 0\n",
    "    d_new = d.iloc[:,11:21]\n",
    "    d_final = d_new.idxmax(axis=\"columns\")\n",
    "    for i in d_final:\n",
    "        if i == 'bush':\n",
    "            count+=1\n",
    "        else:\n",
    "            continue\n",
    "    return count        \n",
    "    \n",
    "    \n",
    "    \n",
    "    \n",
    "# Example Test Case Q2e\n",
    "countiesWon(\"bush-gore-results-fl_demo.csv\")\n",
    "# output: 51"
   ]
  },
  {
   "cell_type": "code",
   "execution_count": 18,
   "metadata": {
    "collapsed": true,
    "deletable": false,
    "editable": false,
    "nbgrader": {
     "grade": true,
     "grade_id": "Q2e:countiesWon1",
     "locked": true,
     "points": "1",
     "solution": false
    }
   },
   "outputs": [],
   "source": [
    "###\n",
    "### AUTOGRADER TEST - DO NOT REMOVE\n",
    "###\n"
   ]
  },
  {
   "cell_type": "code",
   "execution_count": 19,
   "metadata": {
    "collapsed": true,
    "deletable": false,
    "editable": false,
    "nbgrader": {
     "grade": true,
     "grade_id": "Q2e:countiesWon2",
     "locked": true,
     "points": "2",
     "solution": false
    }
   },
   "outputs": [],
   "source": [
    "###\n",
    "### AUTOGRADER TEST - DO NOT REMOVE\n",
    "###\n"
   ]
  },
  {
   "cell_type": "markdown",
   "metadata": {
    "deletable": false,
    "editable": false,
    "nbgrader": {
     "grade": false,
     "locked": true,
     "solution": false
    }
   },
   "source": [
    "## Q3: Data Wrangling"
   ]
  },
  {
   "cell_type": "markdown",
   "metadata": {
    "deletable": false,
    "editable": false,
    "nbgrader": {
     "grade": false,
     "locked": true,
     "solution": false
    }
   },
   "source": [
    "Use the csv file 'class_grades_demo.csv' as sample data for Q4. There is a header row in the file. "
   ]
  },
  {
   "cell_type": "markdown",
   "metadata": {
    "deletable": false,
    "editable": false,
    "nbgrader": {
     "grade": false,
     "locked": true,
     "solution": false
    }
   },
   "source": [
    "(a) Read in data from the input file and transform the column named 'Final' as follows: \n",
    "    1. Find the median of the column. \n",
    "    2. Find the max value of the column. \n",
    "    3. From each entry in the column, subtract the median (obtained in step 1), \n",
    "    and divide the resulting value by the max value (obtained in step 2). \n",
    "Return the transformed values as a vector."
   ]
  },
  {
   "cell_type": "code",
   "execution_count": 42,
   "metadata": {},
   "outputs": [
    {
     "data": {
      "text/plain": [
       "[-0.1400455432661028,\n",
       " -0.07379093472131859,\n",
       " -0.13104532639340707,\n",
       " 0.007536326176534378,\n",
       " -0.25151810887009324,\n",
       " 0.15815441335935806,\n",
       " 0.004500108436347855,\n",
       " 0.31777271741487745,\n",
       " -0.293699848189113,\n",
       " 0.293699848189113,\n",
       " -0.1039362394274561,\n",
       " -0.1490457601387985,\n",
       " -0.004500108436347855,\n",
       " 0.3057362828019952,\n",
       " 0.0596942094990241,\n",
       " 0.034645413142485364]"
      ]
     },
     "execution_count": 42,
     "metadata": {},
     "output_type": "execute_result"
    }
   ],
   "source": [
    "# transformColumn(filename) takes the filename of a csv file as input, transforms \n",
    "# the 'Final' column of the data as described above, and returns a list of the\n",
    "# transformed values. The order of the transformed values should be in the \n",
    "# order of the rows given in the file.\n",
    "\n",
    "# Example output for the file \"class_grades_demo.csv\": \n",
    "# \n",
    "# output: [-0.140045543266, -0.0737909347213, -0.131045326393, 0.00753632617653, \n",
    "# -0.25151810887, 0.158154413359, 0.00450010843635, 0.317772717415, -0.293699848189, \n",
    "# 0.293699848189, -0.103936239427, -0.149045760139, -0.00450010843635, \n",
    "# 0.305736282802, 0.059694209499, 0.0346454131425]\n",
    "\n",
    "def transformColumn(filename):\n",
    "    \n",
    "    d = pd.read_csv(filename)\n",
    "    maxi = d['Final'].max()\n",
    "    medi = d['Final'].median()\n",
    "    final_value =lambda x:float((x-medi)/maxi)\n",
    "    d_new = d['Final'].map(final_value)\n",
    "    list_new = d_new.tolist()\n",
    "    return list_new\n",
    "   \n",
    "\n",
    "\n",
    "    \n",
    "    \n",
    "    \n",
    "# Example Test Case Q3a\n",
    "transformColumn(\"class_grades_demo.csv\")\n",
    "# output: [-0.140045543266, -0.0737909347213, -0.131045326393, 0.00753632617653, \n",
    "# -0.25151810887, 0.158154413359, 0.00450010843635, 0.317772717415, -0.293699848189, \n",
    "# 0.293699848189, -0.103936239427, -0.149045760139, -0.00450010843635, \n",
    "# 0.305736282802, 0.059694209499, 0.0346454131425]\n",
    "\n",
    "\n",
    "    "
   ]
  },
  {
   "cell_type": "code",
   "execution_count": 21,
   "metadata": {
    "collapsed": true,
    "deletable": false,
    "editable": false,
    "nbgrader": {
     "grade": true,
     "grade_id": "Q3a:transform1",
     "locked": true,
     "points": "1",
     "solution": false
    }
   },
   "outputs": [],
   "source": [
    "###\n",
    "### AUTOGRADER TEST - DO NOT REMOVE\n",
    "###\n"
   ]
  },
  {
   "cell_type": "code",
   "execution_count": 22,
   "metadata": {
    "collapsed": true,
    "deletable": false,
    "editable": false,
    "nbgrader": {
     "grade": true,
     "grade_id": "Q3a:trasform2",
     "locked": true,
     "points": "2",
     "solution": false
    }
   },
   "outputs": [],
   "source": [
    "###\n",
    "### AUTOGRADER TEST - DO NOT REMOVE\n",
    "###\n"
   ]
  },
  {
   "cell_type": "markdown",
   "metadata": {
    "deletable": false,
    "editable": false,
    "nbgrader": {
     "grade": false,
     "locked": true,
     "solution": false
    }
   },
   "source": [
    "(b) Read in data from the input file and find the grade assigned to a student based on the following criteria applied to the column 'Final': \n",
    "\n",
    "If value >= 91, grade = A;\n",
    "If value >= 85, grade = B;\n",
    "If value >= 70, grade = C;\n",
    "Otherwise, grade = D.\n",
    "\n",
    "Output the results as a vector."
   ]
  },
  {
   "cell_type": "code",
   "execution_count": 23,
   "metadata": {},
   "outputs": [
    {
     "data": {
      "text/plain": [
       "['D',\n",
       " 'D',\n",
       " 'D',\n",
       " 'D',\n",
       " 'D',\n",
       " 'C',\n",
       " 'D',\n",
       " 'A',\n",
       " 'D',\n",
       " 'B',\n",
       " 'D',\n",
       " 'D',\n",
       " 'D',\n",
       " 'A',\n",
       " 'D',\n",
       " 'D']"
      ]
     },
     "execution_count": 23,
     "metadata": {},
     "output_type": "execute_result"
    }
   ],
   "source": [
    "# assignGrade(filename) assigns grades to students based on the above criteria, \n",
    "# and returns a list of the letter grades assigned. The order of the grades should\n",
    "# be in the order of the rows given in the file. \n",
    "\n",
    "# Example output for the file \"class_grades_demo.csv\".\n",
    "# output: ['D', 'D', 'D', 'D', 'D', 'C', 'D', 'A', 'D', 'B', 'D', 'D', 'D', 'A', 'D', 'D']\n",
    "\n",
    "def assignGrade(filename):\n",
    "    \n",
    "    d = pd.read_csv(filename)\n",
    "    d_new = d['Final'].values\n",
    "    res = []\n",
    "    for i in d_new:\n",
    "        if i>=91:\n",
    "            res.append('A')\n",
    "        elif i>=85:\n",
    "            res.append('B')\n",
    "        elif i>=70:\n",
    "            res.append('C')\n",
    "        else:\n",
    "            res.append('D')\n",
    "    return list(res)\n",
    "\n",
    "\n",
    "    \n",
    "    \n",
    "    \n",
    "    \n",
    "# Example Test Output Q3b\n",
    "assignGrade(\"class_grades_demo.csv\")\n",
    "# output: ['D', 'D', 'D', 'D', 'D', 'C', 'D', 'A', 'D', 'B', 'D', 'D', 'D', 'A', 'D', 'D']\n"
   ]
  },
  {
   "cell_type": "code",
   "execution_count": 24,
   "metadata": {
    "collapsed": true,
    "deletable": false,
    "editable": false,
    "nbgrader": {
     "grade": true,
     "grade_id": "Q3b:assignGrade1",
     "locked": true,
     "points": "1",
     "solution": false
    }
   },
   "outputs": [],
   "source": [
    "###\n",
    "### AUTOGRADER TEST - DO NOT REMOVE\n",
    "###\n"
   ]
  },
  {
   "cell_type": "code",
   "execution_count": 25,
   "metadata": {
    "collapsed": true,
    "deletable": false,
    "editable": false,
    "nbgrader": {
     "grade": true,
     "grade_id": "Q3b:assignGrade2",
     "locked": true,
     "points": "2",
     "solution": false
    }
   },
   "outputs": [],
   "source": [
    "###\n",
    "### AUTOGRADER TEST - DO NOT REMOVE\n",
    "###\n"
   ]
  },
  {
   "cell_type": "markdown",
   "metadata": {
    "deletable": false,
    "editable": false,
    "nbgrader": {
     "grade": false,
     "locked": true,
     "solution": false
    }
   },
   "source": [
    "(c) Assume the input file is a csv file with the same format as above (with header). However, it contains some missing values. Read in the data from the input file and return the number of rows with missing values."
   ]
  },
  {
   "cell_type": "code",
   "execution_count": 26,
   "metadata": {},
   "outputs": [
    {
     "data": {
      "text/plain": [
       "2"
      ]
     },
     "execution_count": 26,
     "metadata": {},
     "output_type": "execute_result"
    }
   ],
   "source": [
    "# countMissingValues(filename) takes the filenome of a csv file as input and returns \n",
    "# the number of rows with any missing values in the data.  \n",
    "\n",
    "# For example,\n",
    "# filename: class_grades_missing_demo.csv\n",
    "# output: 2\n",
    "\n",
    "def countMissingValues(filename):\n",
    "    \n",
    "    d = pd.read_csv(filename)\n",
    "    row_n = d.isnull().any(axis=1)\n",
    "    total = row_n.sum()\n",
    "    return total\n",
    "\n",
    "    \n",
    "    \n",
    "    \n",
    "    \n",
    "# Example Test Output Q3c\n",
    "countMissingValues(\"class_grades_missing_demo.csv\")\n",
    "# output: 2"
   ]
  },
  {
   "cell_type": "code",
   "execution_count": 27,
   "metadata": {
    "collapsed": true,
    "deletable": false,
    "editable": false,
    "nbgrader": {
     "grade": true,
     "grade_id": "Q3c:countMissingValues1",
     "locked": true,
     "points": "1",
     "solution": false
    }
   },
   "outputs": [],
   "source": [
    "###\n",
    "### AUTOGRADER TEST - DO NOT REMOVE\n",
    "###\n"
   ]
  },
  {
   "cell_type": "code",
   "execution_count": 28,
   "metadata": {
    "collapsed": true,
    "deletable": false,
    "editable": false,
    "nbgrader": {
     "grade": true,
     "grade_id": "Q3c:countMissingValues2",
     "locked": true,
     "points": "2",
     "solution": false
    }
   },
   "outputs": [],
   "source": [
    "###\n",
    "### AUTOGRADER TEST - DO NOT REMOVE\n",
    "###\n"
   ]
  },
  {
   "cell_type": "markdown",
   "metadata": {
    "deletable": false,
    "editable": false,
    "nbgrader": {
     "grade": false,
     "locked": true,
     "solution": false
    }
   },
   "source": [
    "(d) Assume the input file is a csv file with the same format as above (with header). However, it contains some missing values in the kth column. Read in the data, compute the average of the values in the kth column. Then fill in the missing values with the value 0. Recompute the average. Return the two values as a tuple."
   ]
  },
  {
   "cell_type": "code",
   "execution_count": 14,
   "metadata": {},
   "outputs": [
    {
     "name": "stdout",
     "output_type": "stream",
     "text": [
      "(70.20466666666668, 65.81687500000001)\n",
      "(62.758, 58.835625)\n"
     ]
    }
   ],
   "source": [
    "# fillMissingValues(filename, k) takes thefilename of a csv file as input and \n",
    "# returns a tuple. The first element reports the average of the values in the kth column\n",
    "# (ignoring missing values), and the second element reports the average after filling in\n",
    "# the missing values with value 0.\n",
    "#\n",
    "# For example,\n",
    "# filename: \n",
    "# fillMissingValues(class_grades_missing_demo.csv, 4) -> (70.20466666666668, 65.81687500000001)\n",
    "# fillMissingValues(class_grades_missing_demo.csv, 5) -> (62.758, 58.835625)\n",
    "\n",
    "def fillMissingValues(filename, k):\n",
    "    \n",
    "        d = pd.read_csv(filename)\n",
    "        res = []\n",
    "        res1 = []\n",
    "        \n",
    "        mean1 = d.iloc[:,k].mean(axis=0,skipna=True)\n",
    "        \n",
    "        d_new = d.fillna(0)\n",
    "    \n",
    "        mean2 = d_new.iloc[:,k].mean(axis=0,skipna=False)\n",
    "        \n",
    "        return mean1,mean2\n",
    "\n",
    "    \n",
    "    \n",
    "    \n",
    "    \n",
    "    \n",
    "# Example Tests Cases Q3d\n",
    "print(fillMissingValues(\"class_grades_missing_demo.csv\", 4))\n",
    "# output: (70.20466666666668, 65.81687500000001)\n",
    "\n",
    "print(fillMissingValues(\"class_grades_missing_demo.csv\", 5))\n",
    "# output: (62.758, 58.835625)\n"
   ]
  },
  {
   "cell_type": "code",
   "execution_count": 56,
   "metadata": {
    "collapsed": true,
    "deletable": false,
    "editable": false,
    "nbgrader": {
     "grade": true,
     "grade_id": "Q3d:fillMissing1",
     "locked": true,
     "points": "1",
     "solution": false
    }
   },
   "outputs": [],
   "source": [
    "###\n",
    "### AUTOGRADER TEST - DO NOT REMOVE\n",
    "###\n"
   ]
  },
  {
   "cell_type": "code",
   "execution_count": null,
   "metadata": {
    "collapsed": true,
    "deletable": false,
    "editable": false,
    "nbgrader": {
     "grade": true,
     "grade_id": "Q3d:fillMissing2",
     "locked": true,
     "points": "1",
     "solution": false
    }
   },
   "outputs": [],
   "source": [
    "###\n",
    "### AUTOGRADER TEST - DO NOT REMOVE\n",
    "###\n"
   ]
  },
  {
   "cell_type": "code",
   "execution_count": null,
   "metadata": {
    "collapsed": true,
    "deletable": false,
    "editable": false,
    "nbgrader": {
     "grade": true,
     "grade_id": "Q3d:fillMissing3",
     "locked": true,
     "points": "1",
     "solution": false
    }
   },
   "outputs": [],
   "source": [
    "###\n",
    "### AUTOGRADER TEST - DO NOT REMOVE\n",
    "###\n"
   ]
  },
  {
   "cell_type": "markdown",
   "metadata": {
    "deletable": false,
    "editable": false,
    "nbgrader": {
     "grade": false,
     "locked": true,
     "solution": false
    }
   },
   "source": [
    "## Q4: HTML Parsing"
   ]
  },
  {
   "cell_type": "markdown",
   "metadata": {
    "deletable": false,
    "editable": false,
    "nbgrader": {
     "grade": false,
     "locked": true,
     "solution": false
    }
   },
   "source": [
    "In this question you will retrieve and parse a webpage. Use BeautifulSoup to parse the webpage.\n",
    "Note: For all questions, the words are separated by whitespace characted and should be converted to lower case."
   ]
  },
  {
   "cell_type": "markdown",
   "metadata": {
    "deletable": false,
    "editable": false,
    "nbgrader": {
     "grade": false,
     "locked": true,
     "solution": false
    }
   },
   "source": [
    "(a) Parse the input webpage document (url) to find all image tags. Return the count of the images in the webpage."
   ]
  },
  {
   "cell_type": "code",
   "execution_count": 83,
   "metadata": {},
   "outputs": [
    {
     "data": {
      "text/plain": [
       "6"
      ]
     },
     "execution_count": 83,
     "metadata": {},
     "output_type": "execute_result"
    }
   ],
   "source": [
    "# countImages(url) takes a url to an html page as input and returns the count \n",
    "# of the images in the corresponding webpage.\n",
    "\n",
    "def countImages(url):\n",
    "\n",
    "    html = requests.get(url)\n",
    "    count = 0\n",
    "    soup = BeautifulSoup(html.content, 'html.parser')\n",
    "    images = soup.find_all('img')\n",
    "    for img in images:\n",
    "        if img.has_attr('src'):\n",
    "            count+=1\n",
    "    return count\n",
    "    \n",
    "\n",
    "    \n",
    "    \n",
    "    \n",
    "\n",
    "    \n",
    "# Example Test Case Q4\n",
    "countImages(\"https://en.wikipedia.org/wiki/Data_science\")\n",
    "# output: 4 (Subject to change, true as of 18 Feb 2020)"
   ]
  },
  {
   "cell_type": "code",
   "execution_count": null,
   "metadata": {
    "collapsed": true,
    "deletable": false,
    "editable": false,
    "nbgrader": {
     "grade": true,
     "grade_id": "Q4a:countImages1",
     "locked": true,
     "points": "1",
     "solution": false
    }
   },
   "outputs": [],
   "source": [
    "###\n",
    "### AUTOGRADER TEST - DO NOT REMOVE\n",
    "###\n"
   ]
  },
  {
   "cell_type": "code",
   "execution_count": null,
   "metadata": {
    "collapsed": true,
    "deletable": false,
    "editable": false,
    "nbgrader": {
     "grade": true,
     "grade_id": "Q4a:countImages2",
     "locked": true,
     "points": "2",
     "solution": false
    }
   },
   "outputs": [],
   "source": [
    "###\n",
    "### AUTOGRADER TEST - DO NOT REMOVE\n",
    "###\n"
   ]
  },
  {
   "cell_type": "markdown",
   "metadata": {
    "deletable": false,
    "editable": false,
    "nbgrader": {
     "grade": false,
     "locked": true,
     "solution": false
    }
   },
   "source": [
    "(b) Parse the input webpage document (url) to count the number of the paragraph tags (\"&lt;p&gt;\") in the webpage."
   ]
  },
  {
   "cell_type": "code",
   "execution_count": 85,
   "metadata": {},
   "outputs": [
    {
     "data": {
      "text/plain": [
       "13"
      ]
     },
     "execution_count": 85,
     "metadata": {},
     "output_type": "execute_result"
    }
   ],
   "source": [
    "# countParagraphTags(url) takes a url to an html page as input and returns \n",
    "# the number of paragraph tags in the corresponding webpage.\n",
    "\n",
    "def countParagraphTags(url):\n",
    "\n",
    "    html = requests.get(url)\n",
    "    soup = BeautifulSoup(html.content, 'html.parser')\n",
    "    para = soup.find_all('p')\n",
    "    return len(para)\n",
    "\n",
    "\n",
    "    \n",
    "    \n",
    "# Example Test Case Q4b\n",
    "countParagraphTags(\"https://en.wikipedia.org/wiki/Data_science\")\n",
    "# output: 16 (Subject to change, true as of 18 Feb 2020)"
   ]
  },
  {
   "cell_type": "code",
   "execution_count": null,
   "metadata": {
    "collapsed": true,
    "deletable": false,
    "editable": false,
    "nbgrader": {
     "grade": true,
     "grade_id": "Q4b:countParagraphTags1",
     "locked": true,
     "points": "1",
     "solution": false
    }
   },
   "outputs": [],
   "source": [
    "###\n",
    "### AUTOGRADER TEST - DO NOT REMOVE\n",
    "###\n"
   ]
  },
  {
   "cell_type": "code",
   "execution_count": null,
   "metadata": {
    "collapsed": true,
    "deletable": false,
    "editable": false,
    "nbgrader": {
     "grade": true,
     "grade_id": "Q4b:countParagraphTags2",
     "locked": true,
     "points": "2",
     "solution": false
    }
   },
   "outputs": [],
   "source": [
    "###\n",
    "### AUTOGRADER TEST - DO NOT REMOVE\n",
    "###\n"
   ]
  },
  {
   "cell_type": "markdown",
   "metadata": {
    "deletable": false,
    "editable": false,
    "nbgrader": {
     "grade": false,
     "locked": true,
     "solution": false
    }
   },
   "source": [
    "(c) Parse the input webpage document (url), find all the paragraph tags and do the following:\n",
    "    1. Retrieve all text enclosed in paragraph tags and convert to lower case. \n",
    "    2. Strip out punctuation using str.translate(str.maketrans('','',string.punctuation)).\n",
    "    3. Tokenize into words based on whitespace separation.\n",
    "\n",
    "Return the total number of words in all the paragraph tags. This corresponds to the document length."
   ]
  },
  {
   "cell_type": "code",
   "execution_count": 43,
   "metadata": {},
   "outputs": [
    {
     "data": {
      "text/plain": [
       "945"
      ]
     },
     "execution_count": 43,
     "metadata": {},
     "output_type": "execute_result"
    }
   ],
   "source": [
    "# getDocumentLength(url) takes a url to an html page as input and returns \n",
    "# the document length in the corresponding webpage.\n",
    "\n",
    "def getDocumentLength(url):\n",
    "    \n",
    "    html = requests.get(url)\n",
    "    text_final = []\n",
    "    text_new = []\n",
    "    soup = BeautifulSoup(html.content,\"html.parser\")\n",
    "    page = soup.find_all('p')\n",
    "    for tag in page:\n",
    "        text_final.append(tag.text)\n",
    "    for text in text_final:\n",
    "        text_new.append(text.lower())\n",
    "    translator = str.maketrans('', '', string.punctuation)\n",
    "    str1= ''.join(text_new)\n",
    "    str1 = str1.translate(translator)\n",
    "    str2 = str1.split()\n",
    "    return len(str2)\n",
    "\n",
    "    \n",
    "    \n",
    "\n",
    "\n",
    "\n",
    "\n",
    "# Example Test Case Q4c\n",
    "getDocumentLength(\"https://en.wikipedia.org/wiki/Data_science\")\n",
    "# output: 1522 (Subject to change, true as of 18 Feb 2020)"
   ]
  },
  {
   "cell_type": "code",
   "execution_count": null,
   "metadata": {
    "collapsed": true,
    "deletable": false,
    "editable": false,
    "nbgrader": {
     "grade": true,
     "grade_id": "Q4c:getDocumentLength1",
     "locked": true,
     "points": "1",
     "solution": false
    }
   },
   "outputs": [],
   "source": [
    "###\n",
    "### AUTOGRADER TEST - DO NOT REMOVE\n",
    "###\n"
   ]
  },
  {
   "cell_type": "code",
   "execution_count": null,
   "metadata": {
    "collapsed": true,
    "deletable": false,
    "editable": false,
    "nbgrader": {
     "grade": true,
     "grade_id": "Q4c:getDocumentLength2",
     "locked": true,
     "points": "2",
     "solution": false
    }
   },
   "outputs": [],
   "source": [
    "###\n",
    "### AUTOGRADER TEST - DO NOT REMOVE\n",
    "###\n"
   ]
  },
  {
   "cell_type": "markdown",
   "metadata": {
    "deletable": false,
    "editable": false,
    "nbgrader": {
     "grade": false,
     "locked": true,
     "solution": false
    }
   },
   "source": [
    "(d) Parse the input webpage document (url), find all the paragraph tags and repeat the steps above but this time find the number of unique words. Specifically,\n",
    "    1. Retrieve all text enclosed in paragraph tags and convert to lower case. \n",
    "    2. Strip out punctuation using str.translate(str.maketrans('','',string.punctuation))\n",
    "    3. Tokenize into words based on whitespace separation.\n",
    "    4. Find the number of unique words."
   ]
  },
  {
   "cell_type": "code",
   "execution_count": 46,
   "metadata": {},
   "outputs": [
    {
     "data": {
      "text/plain": [
       "450"
      ]
     },
     "execution_count": 46,
     "metadata": {},
     "output_type": "execute_result"
    }
   ],
   "source": [
    "# getUniqueWords(url)takes a url to an html page as input and returns the \n",
    "# the number of unique terms in the corresponding webpage.\n",
    "\n",
    "def getUniqueWords(url):\n",
    "    \n",
    "    html = requests.get(url)\n",
    "    text_final = []\n",
    "    text_new = []\n",
    "    unique_words = []\n",
    "    soup = BeautifulSoup(html.content,\"html.parser\")\n",
    "    page = soup.find_all('p')\n",
    "    for tag in page:\n",
    "        text_final.append(tag.text)\n",
    "    for text in text_final:\n",
    "        text_new.append(text.lower())\n",
    "    translator = str.maketrans('', '', string.punctuation)\n",
    "    str1= ''.join(text_new)\n",
    "    str1 = str1.translate(translator)\n",
    "    str2 = str1.split()\n",
    "    for words in str2:\n",
    "        if words not in unique_words:\n",
    "            unique_words.append(words)\n",
    "    return len(unique_words)\n",
    "    \n",
    "\n",
    "\n",
    "\n",
    "\n",
    "# Example Test Case Q4d\n",
    "getUniqueWords(\"https://en.wikipedia.org/wiki/Data_science\")\n",
    "# output: 628 (Subject to change, true as of 18 Feb 2020)"
   ]
  },
  {
   "cell_type": "code",
   "execution_count": null,
   "metadata": {
    "collapsed": true,
    "deletable": false,
    "editable": false,
    "nbgrader": {
     "grade": true,
     "grade_id": "Q4d:getUniqueWords1",
     "locked": true,
     "points": "1",
     "solution": false
    }
   },
   "outputs": [],
   "source": [
    "###\n",
    "### AUTOGRADER TEST - DO NOT REMOVE\n",
    "###\n"
   ]
  },
  {
   "cell_type": "code",
   "execution_count": null,
   "metadata": {
    "collapsed": true,
    "deletable": false,
    "editable": false,
    "nbgrader": {
     "grade": true,
     "grade_id": "Q4d:getUniqueWords2",
     "locked": true,
     "points": "2",
     "solution": false
    }
   },
   "outputs": [],
   "source": [
    "###\n",
    "### AUTOGRADER TEST - DO NOT REMOVE\n",
    "###\n"
   ]
  },
  {
   "cell_type": "code",
   "execution_count": null,
   "metadata": {
    "collapsed": true
   },
   "outputs": [],
   "source": []
  }
 ],
 "metadata": {
  "kernelspec": {
   "display_name": "Python 3 [3.6]",
   "language": "python",
   "name": "python3"
  },
  "language_info": {
   "codemirror_mode": {
    "name": "ipython",
    "version": 3
   },
   "file_extension": ".py",
   "mimetype": "text/x-python",
   "name": "python",
   "nbconvert_exporter": "python",
   "pygments_lexer": "ipython3",
   "version": "3.6.4"
  }
 },
 "nbformat": 4,
 "nbformat_minor": 2
}
